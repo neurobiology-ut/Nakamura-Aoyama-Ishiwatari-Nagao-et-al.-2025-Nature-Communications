{
 "cells": [
  {
   "cell_type": "code",
   "execution_count": 1,
   "metadata": {},
   "outputs": [],
   "source": [
    "%matplotlib inline\n",
    "import matplotlib.pyplot as plt\n",
    "import os\n",
    "import numpy as np\n",
    "import pandas as pd\n",
    "import cv2\n",
    "import time\n",
    "from skimage import morphology\n",
    "import seaborn as sns\n",
    "plt.rcParams['figure.figsize'] = (20,12)\n",
    "%config InlineBackend.figure_format = 'retina'"
   ]
  },
  {
   "cell_type": "code",
   "execution_count": 2,
   "metadata": {},
   "outputs": [],
   "source": [
    "def main(file_path,threshold_P,threshold_O,threshold_F):\n",
    "    \n",
    "    PDZD8_on_mito_with_FKBP8_list = []\n",
    "    PDZD8_on_mito_without_FKBP8_list = []\n",
    "    Mito_with_FKBP8_list = []\n",
    "    Mito_without_FKBP8_list = []\n",
    "    FKBP8_list = []\n",
    "    \n",
    "    for j in [1,2,3]:\n",
    "        PDZD8 = cv2.imread(file_path + str(j) + \".tif_PDZD8.tif\",cv2.IMREAD_ANYDEPTH)\n",
    "        Mito = cv2.imread(file_path + str(j) + \".tif_OxPHOS.tif\",cv2.IMREAD_ANYDEPTH)\n",
    "        FKBP8 = cv2.imread(file_path + str(j) + \".tif_FKBP8.tif\",cv2.IMREAD_ANYDEPTH)\n",
    "    \n",
    "        ret_P ,th_P = cv2.threshold(PDZD8,threshold_P,65535,cv2.THRESH_BINARY)\n",
    "        th_P = th_P/65535\n",
    "        PDZD8 = PDZD8 - threshold_P\n",
    "        PDZD8 = PDZD8 * th_P\n",
    "    \n",
    "        ret_F,th_F = cv2.threshold(FKBP8,threshold_F,65535,cv2.THRESH_BINARY)\n",
    "        th_F = th_F/65535\n",
    "        FKBP8 = FKBP8 - threshold_F\n",
    "        FKBP8 = FKBP8 * th_F\n",
    "    \n",
    "        ret_M ,th_M = cv2.threshold(Mito,threshold_O,65535,cv2.THRESH_BINARY)\n",
    "        th_M = th_M/65535\n",
    " \n",
    "        Mito_with_FKBP8 = th_M * th_F\n",
    "        Mito_without_FKBP8 = th_M -  Mito_with_FKBP8\n",
    "        PDZD8_on_mito = PDZD8 * th_M\n",
    "        PDZD8_on_mito_with_FKBP8 = PDZD8 * Mito_with_FKBP8\n",
    "        PDZD8_on_mito_without_FKBP8 = PDZD8 * Mito_without_FKBP8\n",
    "        \n",
    "        PDZD8_on_mito_with_FKBP8_list = np.append(PDZD8_on_mito_with_FKBP8_list, PDZD8_on_mito_with_FKBP8)\n",
    "        PDZD8_on_mito_without_FKBP8_list = np.append(PDZD8_on_mito_without_FKBP8_list, PDZD8_on_mito_without_FKBP8)\n",
    "        Mito_with_FKBP8_list = np.append(Mito_with_FKBP8_list, Mito_with_FKBP8)\n",
    "        Mito_without_FKBP8_list = np.append(Mito_without_FKBP8_list, Mito_without_FKBP8)\n",
    "        FKBP8_list = np.append(FKBP8_list, np.sum(FKBP8))\n",
    "        \n",
    "    a = np.sum(PDZD8_on_mito_with_FKBP8_list) / np.sum(Mito_with_FKBP8_list)  \n",
    "    b = np.sum(PDZD8_on_mito_without_FKBP8_list) / np.sum(Mito_without_FKBP8_list)\n",
    "    c = np.sum(Mito_with_FKBP8_list)/np.sum(FKBP8_list)\n",
    "    return  [a,b]"
   ]
  },
  {
   "cell_type": "code",
   "execution_count": 4,
   "metadata": {
    "scrolled": true
   },
   "outputs": [],
   "source": [
    "df_1 = pd.DataFrame(data=None, index=None, columns= [\"PDZD8_on_mito_with_FKBP8\", \"PDZD8_on_mito_without_FKBP8\"], dtype=None, copy=False)\n",
    "for i in [1,6,7,9,10]:\n",
    "    file_path = r\"/Users/sa/Documents/SA/Hirabayashi Lab/Experiment/Exp_Data/Imaging/221122 Nagao/Analysis/Split images/221122Exp268 KI endoFKBP8 PDZD8-Halo Tom20 \" + str(i) + \" - Deconvolved 20 iterations, Type Richardson-Lucy.nd2 cropped_\"\n",
    "    threshold_P = 50\n",
    "    threshold_O = 120\n",
    "    threshold_F = 300\n",
    "    df_1.loc[file_path] = main(file_path,threshold_P,threshold_O,threshold_F)"
   ]
  },
  {
   "cell_type": "code",
   "execution_count": 5,
   "metadata": {},
   "outputs": [],
   "source": [
    "df_2 = pd.DataFrame(data=None, index=None, columns= [\"PDZD8_on_mito_with_FKBP8\", \"PDZD8_on_mito_without_FKBP8\"], dtype=None, copy=False)\n",
    "for i in [1,2,4,5]:\n",
    "    file_path = r\"/Users/sa/Documents/SA/Hirabayashi Lab/Experiment/Exp_Data/Imaging/221126 Nagao/Analysis/Split images/221126Exp268-2 KI endoFKBP8 PDZD8-Halo Tom20 \" + str(i) + \" - Deconvolved 20 iterations, Type Richardson-Lucy.nd2 cropped_\"\n",
    "    threshold_P = 40\n",
    "    threshold_O = 120\n",
    "    threshold_F = 400\n",
    "    df_2.loc[file_path] = main(file_path,threshold_P,threshold_O,threshold_F)"
   ]
  },
  {
   "cell_type": "code",
   "execution_count": 8,
   "metadata": {},
   "outputs": [
    {
     "data": {
      "text/html": [
       "<div>\n",
       "<style scoped>\n",
       "    .dataframe tbody tr th:only-of-type {\n",
       "        vertical-align: middle;\n",
       "    }\n",
       "\n",
       "    .dataframe tbody tr th {\n",
       "        vertical-align: top;\n",
       "    }\n",
       "\n",
       "    .dataframe thead th {\n",
       "        text-align: right;\n",
       "    }\n",
       "</style>\n",
       "<table border=\"1\" class=\"dataframe\">\n",
       "  <thead>\n",
       "    <tr style=\"text-align: right;\">\n",
       "      <th></th>\n",
       "      <th>PDZD8_on_mito_with_FKBP8</th>\n",
       "      <th>PDZD8_on_mito_without_FKBP8</th>\n",
       "    </tr>\n",
       "  </thead>\n",
       "  <tbody>\n",
       "    <tr>\n",
       "      <th>/Users/sa/Documents/SA/Hirabayashi Lab/Experiment/Exp_Data/Imaging/221122 Nagao/Analysis/Split images/221122Exp268 KI endoFKBP8 PDZD8-Halo Tom20 1 - Deconvolved 20 iterations, Type Richardson-Lucy.nd2 cropped_</th>\n",
       "      <td>5.566068</td>\n",
       "      <td>4.126621</td>\n",
       "    </tr>\n",
       "    <tr>\n",
       "      <th>/Users/sa/Documents/SA/Hirabayashi Lab/Experiment/Exp_Data/Imaging/221122 Nagao/Analysis/Split images/221122Exp268 KI endoFKBP8 PDZD8-Halo Tom20 6 - Deconvolved 20 iterations, Type Richardson-Lucy.nd2 cropped_</th>\n",
       "      <td>1.797980</td>\n",
       "      <td>0.565960</td>\n",
       "    </tr>\n",
       "    <tr>\n",
       "      <th>/Users/sa/Documents/SA/Hirabayashi Lab/Experiment/Exp_Data/Imaging/221122 Nagao/Analysis/Split images/221122Exp268 KI endoFKBP8 PDZD8-Halo Tom20 7 - Deconvolved 20 iterations, Type Richardson-Lucy.nd2 cropped_</th>\n",
       "      <td>0.820761</td>\n",
       "      <td>1.006278</td>\n",
       "    </tr>\n",
       "    <tr>\n",
       "      <th>/Users/sa/Documents/SA/Hirabayashi Lab/Experiment/Exp_Data/Imaging/221122 Nagao/Analysis/Split images/221122Exp268 KI endoFKBP8 PDZD8-Halo Tom20 9 - Deconvolved 20 iterations, Type Richardson-Lucy.nd2 cropped_</th>\n",
       "      <td>1.523861</td>\n",
       "      <td>1.351069</td>\n",
       "    </tr>\n",
       "    <tr>\n",
       "      <th>/Users/sa/Documents/SA/Hirabayashi Lab/Experiment/Exp_Data/Imaging/221122 Nagao/Analysis/Split images/221122Exp268 KI endoFKBP8 PDZD8-Halo Tom20 10 - Deconvolved 20 iterations, Type Richardson-Lucy.nd2 cropped_</th>\n",
       "      <td>1.441775</td>\n",
       "      <td>0.993945</td>\n",
       "    </tr>\n",
       "    <tr>\n",
       "      <th>/Users/sa/Documents/SA/Hirabayashi Lab/Experiment/Exp_Data/Imaging/221126 Nagao/Analysis/Split images/221126Exp268-2 KI endoFKBP8 PDZD8-Halo Tom20 1 - Deconvolved 20 iterations, Type Richardson-Lucy.nd2 cropped_</th>\n",
       "      <td>2.202068</td>\n",
       "      <td>1.352467</td>\n",
       "    </tr>\n",
       "    <tr>\n",
       "      <th>/Users/sa/Documents/SA/Hirabayashi Lab/Experiment/Exp_Data/Imaging/221126 Nagao/Analysis/Split images/221126Exp268-2 KI endoFKBP8 PDZD8-Halo Tom20 2 - Deconvolved 20 iterations, Type Richardson-Lucy.nd2 cropped_</th>\n",
       "      <td>4.527323</td>\n",
       "      <td>2.463209</td>\n",
       "    </tr>\n",
       "    <tr>\n",
       "      <th>/Users/sa/Documents/SA/Hirabayashi Lab/Experiment/Exp_Data/Imaging/221126 Nagao/Analysis/Split images/221126Exp268-2 KI endoFKBP8 PDZD8-Halo Tom20 4 - Deconvolved 20 iterations, Type Richardson-Lucy.nd2 cropped_</th>\n",
       "      <td>1.470355</td>\n",
       "      <td>1.083646</td>\n",
       "    </tr>\n",
       "    <tr>\n",
       "      <th>/Users/sa/Documents/SA/Hirabayashi Lab/Experiment/Exp_Data/Imaging/221126 Nagao/Analysis/Split images/221126Exp268-2 KI endoFKBP8 PDZD8-Halo Tom20 5 - Deconvolved 20 iterations, Type Richardson-Lucy.nd2 cropped_</th>\n",
       "      <td>3.518093</td>\n",
       "      <td>2.407160</td>\n",
       "    </tr>\n",
       "  </tbody>\n",
       "</table>\n",
       "</div>"
      ],
      "text/plain": [
       "                                                    PDZD8_on_mito_with_FKBP8  \\\n",
       "/Users/sa/Documents/SA/Hirabayashi Lab/Experime...                  5.566068   \n",
       "/Users/sa/Documents/SA/Hirabayashi Lab/Experime...                  1.797980   \n",
       "/Users/sa/Documents/SA/Hirabayashi Lab/Experime...                  0.820761   \n",
       "/Users/sa/Documents/SA/Hirabayashi Lab/Experime...                  1.523861   \n",
       "/Users/sa/Documents/SA/Hirabayashi Lab/Experime...                  1.441775   \n",
       "/Users/sa/Documents/SA/Hirabayashi Lab/Experime...                  2.202068   \n",
       "/Users/sa/Documents/SA/Hirabayashi Lab/Experime...                  4.527323   \n",
       "/Users/sa/Documents/SA/Hirabayashi Lab/Experime...                  1.470355   \n",
       "/Users/sa/Documents/SA/Hirabayashi Lab/Experime...                  3.518093   \n",
       "\n",
       "                                                    PDZD8_on_mito_without_FKBP8  \n",
       "/Users/sa/Documents/SA/Hirabayashi Lab/Experime...                     4.126621  \n",
       "/Users/sa/Documents/SA/Hirabayashi Lab/Experime...                     0.565960  \n",
       "/Users/sa/Documents/SA/Hirabayashi Lab/Experime...                     1.006278  \n",
       "/Users/sa/Documents/SA/Hirabayashi Lab/Experime...                     1.351069  \n",
       "/Users/sa/Documents/SA/Hirabayashi Lab/Experime...                     0.993945  \n",
       "/Users/sa/Documents/SA/Hirabayashi Lab/Experime...                     1.352467  \n",
       "/Users/sa/Documents/SA/Hirabayashi Lab/Experime...                     2.463209  \n",
       "/Users/sa/Documents/SA/Hirabayashi Lab/Experime...                     1.083646  \n",
       "/Users/sa/Documents/SA/Hirabayashi Lab/Experime...                     2.407160  "
      ]
     },
     "execution_count": 8,
     "metadata": {},
     "output_type": "execute_result"
    }
   ],
   "source": [
    "df = pd.concat([df_1, df_2])\n",
    "df"
   ]
  },
  {
   "cell_type": "code",
   "execution_count": 197,
   "metadata": {},
   "outputs": [],
   "source": [
    "df.to_csv(\"PDZD8 intensity on FKBP8-positive mito.csv\")"
   ]
  },
  {
   "cell_type": "code",
   "execution_count": null,
   "metadata": {},
   "outputs": [],
   "source": []
  }
 ],
 "metadata": {
  "kernelspec": {
   "display_name": "Python 3 (ipykernel)",
   "language": "python",
   "name": "python3"
  },
  "language_info": {
   "codemirror_mode": {
    "name": "ipython",
    "version": 3
   },
   "file_extension": ".py",
   "mimetype": "text/x-python",
   "name": "python",
   "nbconvert_exporter": "python",
   "pygments_lexer": "ipython3",
   "version": "3.12.7"
  }
 },
 "nbformat": 4,
 "nbformat_minor": 4
}
