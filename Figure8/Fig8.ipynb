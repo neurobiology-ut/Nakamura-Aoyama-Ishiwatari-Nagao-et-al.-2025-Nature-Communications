{
 "cells": [
  {
   "cell_type": "code",
   "execution_count": 1,
   "metadata": {},
   "outputs": [],
   "source": [
    "%matplotlib inline\n",
    "import matplotlib.pyplot as plt\n",
    "import os\n",
    "import numpy as np\n",
    "import cc3d\n",
    "import cv2\n",
    "from PIL import Image\n",
    "import pandas as pd\n",
    "from tqdm.notebook import tqdm\n",
    "from skimage import morphology\n",
    "from skimage.measure import regionprops, label, find_contours\n",
    "from scipy.spatial.distance import cdist\n",
    "import scipy.ndimage as ndimage"
   ]
  },
  {
   "cell_type": "code",
   "execution_count": 2,
   "metadata": {},
   "outputs": [],
   "source": [
    "def normalize_x(image):\n",
    "    return image / 127.5 - 1\n",
    "\n",
    "\n",
    "def denormalize_x(image):\n",
    "    return (image + 1) * 127.5\n",
    "\n",
    "\n",
    "def normalize_y(image):\n",
    "    return image / 255\n",
    "\n",
    "\n",
    "def denormalize_y(image):\n",
    "    return image * 255"
   ]
  },
  {
   "cell_type": "code",
   "execution_count": 3,
   "metadata": {},
   "outputs": [],
   "source": [
    "def load_X_gray(folder_path):\n",
    "    \n",
    "    image_files = []       \n",
    "    for file in os.listdir(folder_path):\n",
    "        base, ext = os.path.splitext(file)\n",
    "        if ext == '.png':\n",
    "            image_files.append(file)\n",
    "        else :\n",
    "            pass\n",
    "        \n",
    "    image_files.sort()\n",
    "    \n",
    "    img = cv2.imread(folder_path + os.sep + image_files[0], cv2.IMREAD_GRAYSCALE)\n",
    "    \n",
    "    images = np.zeros((len(image_files), img.shape[0], img.shape[1], 1), np.float32)\n",
    "    for i, image_file in enumerate(image_files):\n",
    "        image = cv2.imread(folder_path + os.sep + image_file, cv2.IMREAD_GRAYSCALE)\n",
    "        image = image[:, :, np.newaxis]\n",
    "        images[i] = normalize_x(image)\n",
    "    \n",
    "    print(images.shape)\n",
    "    \n",
    "    return images, image_files\n",
    "\n",
    "\n",
    "def load_Y_gray(folder_path, thresh = None , normalize = False):\n",
    "    \n",
    "    image_files = []\n",
    "    for file in os.listdir(folder_path):\n",
    "        base, ext = os.path.splitext(file)\n",
    "        if ext == '.png':\n",
    "            image_files.append(file)\n",
    "        else:\n",
    "            pass\n",
    "        \n",
    "    image_files.sort()\n",
    "    \n",
    "    img = cv2.imread(folder_path + os.sep + image_files[0], cv2.IMREAD_GRAYSCALE)\n",
    "    \n",
    "    images = np.zeros((len(image_files), img.shape[0], img.shape[1], 1) ,np.float32)\n",
    "    \n",
    "    for i , image_file in enumerate(image_files):\n",
    "        image = cv2.imread(folder_path + os.sep + image_file, cv2.IMREAD_GRAYSCALE)\n",
    "        if thresh:\n",
    "            ret , image = cv2.threshold(image , thresh , 255 , cv2.THRESH_BINARY)\n",
    "        image = image[:, :, np.newaxis]\n",
    "        if normalize:\n",
    "            images[i] = normalize_y(image)\n",
    "        else:\n",
    "            images[i] = image\n",
    "            \n",
    "    print(images.shape)\n",
    "    \n",
    "    return images, image_files"
   ]
  },
  {
   "cell_type": "code",
   "execution_count": 4,
   "metadata": {},
   "outputs": [],
   "source": [
    "def pick_counters(imgs):\n",
    "    \n",
    "    \"\"\"\n",
    "        Args : \n",
    "            imgs (numpy.ndarray) : Z, Y, X, 1\n",
    "        Returns : \n",
    "            counter_imgs (numpy.ndarray) : Z, Y, X, 1\n",
    "    \"\"\"\n",
    "    \n",
    "    counter_imgs = np.zeros_like(imgs, np.float32)\n",
    "    for z in range(imgs.shape[0]):\n",
    "        contours, hierarchy = cv2.findContours(imgs[z].astype(\"uint8\"), cv2.RETR_TREE, cv2.CHAIN_APPROX_SIMPLE)\n",
    "        img = np.zeros((imgs.shape[1], imgs.shape[2], 1), np.float32)\n",
    "        line = cv2.drawContours(img, contours, -1, (1,0,0), 1)\n",
    "        \n",
    "        line[0, :] = 0\n",
    "        line[-1, :] = 0\n",
    "        line[:, 0] = 0\n",
    "        line[:, -1] = 0\n",
    "        \n",
    "        counter_imgs[z] = line\n",
    "    return counter_imgs\n",
    "\n",
    "\n",
    "def pick_counters_3d(imgs):\n",
    "    \n",
    "    \"\"\"\n",
    "        Args : \n",
    "            imgs (numpy.ndarray) : Z, Y, X, 1\n",
    "        Returns : \n",
    "            counter_imgs (numpy.ndarray) : Z, Y, X, 1\n",
    "        Note : \n",
    "            isotropicじゃないと使えません。端っこの面は塗りつぶさないように工夫しています。\n",
    "    \"\"\"\n",
    "    \n",
    "    z_counter_imgs = pick_counters(imgs)\n",
    "    y_counter_imgs = pick_counters(imgs.transpose(1, 2, 0, 3))\n",
    "    x_counter_imgs = pick_counters(imgs.transpose(2, 0, 1, 3))\n",
    "    \n",
    "    merged_counter_img = z_counter_imgs + y_counter_imgs.transpose(2, 0, 1, 3) + x_counter_imgs.transpose(1, 2, 0, 3)\n",
    "    \n",
    "    merged_counter_img[0, : ,:] = z_counter_imgs[0]\n",
    "    merged_counter_img[-1, : ,:] = z_counter_imgs[-1]\n",
    "    merged_counter_img[:, 0, :] = y_counter_imgs.transpose(2, 0, 1, 3)[:, 0, :]\n",
    "    merged_counter_img[:, -1, :] = y_counter_imgs.transpose(2, 0, 1, 3)[:, -1, :]\n",
    "    merged_counter_img[:, :, 0] = x_counter_imgs.transpose(1, 2, 0, 3)[:, :, 0]\n",
    "    merged_counter_img[:, :, -1] = x_counter_imgs.transpose(1, 2, 0, 3)[:, :, -1]\n",
    "    \n",
    "    return (merged_counter_img>0).astype(np.float32)\n",
    "\n",
    "\n",
    "def dilate_imgs(imgs):\n",
    "    \n",
    "    \n",
    "    \"\"\"\n",
    "        Args : \n",
    "            imgs (numpy.ndarray) : Z, Y, X, 1\n",
    "            \n",
    "        Returns : \n",
    "            dilated_imgs (numpy.ndarray) : Z, Y, X, 1\n",
    "    \"\"\"\n",
    "    \n",
    "    dilated_imgs = morphology.binary_dilation(imgs[:,:,:,0], morphology.ball(3)).astype(np.uint8)\n",
    "\n",
    "    return dilated_imgs\n",
    "\n",
    "\n",
    "def quantify_mercs(labeled_mito_imgs, mercs_imgs):\n",
    "    \n",
    "    \n",
    "    \"\"\"\n",
    "        Args : \n",
    "            labeled_mito_imgs (numpy.ndarray) : Z, Y, X, 1\n",
    "            mercs_imgs (numpy.ndarray) : Z, Y, X, 1\n",
    "            \n",
    "        Returns : \n",
    "            mercs_volume (num)\n",
    "    \"\"\"    \n",
    "    \n",
    "    mercs_volume = np.count_nonzero((labeled_mito_imgs > 0) & (mercs_imgs > 0))\n",
    "    \n",
    "    return mercs_volume"
   ]
  },
  {
   "cell_type": "code",
   "execution_count": 5,
   "metadata": {},
   "outputs": [],
   "source": [
    "def main(mito_path, out_dir, out_filename):\n",
    "    mito_imgs, _ = load_Y_gray(mito_path)\n",
    "    #er_imgs, _ = load_Y_gray(mercs_path)\n",
    "    \n",
    "    ## mercs部分の抽出準備\n",
    "    #er_imgs = np.where(mito_imgs>0, 0, er_imgs)\n",
    "    #dilated_er_imgs = dilate_imgs(er_imgs)\n",
    "    \n",
    "    ## mitoをラベル化\n",
    "    connectivity = 6 # 縦横下\n",
    "    labels_mito_imgs = cc3d.connected_components((mito_imgs[:,:,:,0] == 1).astype(int), connectivity = connectivity)\n",
    "    \n",
    "    ## 定量する\n",
    "    df = pd.DataFrame(\n",
    "        index=[], \n",
    "        columns=['mito_No', 'mito_V_px', \"mito_V_nm\", 'mito_S_px', \"mito_S_nm\"],\n",
    "        dtype=object\n",
    "    )\n",
    "    for i in tqdm(range(1, int(np.max(labels_mito_imgs) + 1))):\n",
    "        target_mito = (labels_mito_imgs==i).astype(\"uint8\")[..., np.newaxis]\n",
    "        target_mito_counters = pick_counters(target_mito)\n",
    "        #target_mercs = np.where(target_mito_counters[:,:,:,0]>0, dilated_er_imgs, 0)\n",
    "        \n",
    "        mito_V = np.sum(target_mito)\n",
    "        mito_S = np.sum(target_mito_counters)\n",
    "        #mercs_S = np.sum(target_mercs)\n",
    "        #mercs_ratio = mercs_S/mito_S\n",
    "        \n",
    "        df = df.append(pd.Series({\n",
    "            'mito_No'           : i, \n",
    "            'mito_V_px'        : int(mito_V), \n",
    "            \"mito_V_nm\"      : int(mito_V)*12.5*12.5*50, \n",
    "            'mito_S_px'        : int(mito_S), \n",
    "            \"mito_S_nm\"      : int(mito_S)* 50* 12.5\n",
    "        }), ignore_index = True)\n",
    "    \n",
    "    os.makedirs(out_dir, exist_ok = True)\n",
    "    df.to_csv(f\"{out_dir}/{out_filename}\")\n",
    "    "
   ]
  },
  {
   "cell_type": "code",
   "execution_count": 6,
   "metadata": {},
   "outputs": [
    {
     "name": "stdout",
     "output_type": "stream",
     "text": [
      "(74, 2376, 2424, 1)\n"
     ]
    },
    {
     "data": {
      "application/vnd.jupyter.widget-view+json": {
       "model_id": "0dbfb4d8750147d1826f3fb260688bf6",
       "version_major": 2,
       "version_minor": 0
      },
      "text/plain": [
       "  0%|          | 0/36 [00:00<?, ?it/s]"
      ]
     },
     "metadata": {},
     "output_type": "display_data"
    },
    {
     "name": "stderr",
     "output_type": "stream",
     "text": [
      "/tmp/ipykernel_18511/1893919530.py:29: FutureWarning: The frame.append method is deprecated and will be removed from pandas in a future version. Use pandas.concat instead.\n",
      "  df = df.append(pd.Series({\n",
      "/tmp/ipykernel_18511/1893919530.py:29: FutureWarning: The frame.append method is deprecated and will be removed from pandas in a future version. Use pandas.concat instead.\n",
      "  df = df.append(pd.Series({\n",
      "/tmp/ipykernel_18511/1893919530.py:29: FutureWarning: The frame.append method is deprecated and will be removed from pandas in a future version. Use pandas.concat instead.\n",
      "  df = df.append(pd.Series({\n",
      "/tmp/ipykernel_18511/1893919530.py:29: FutureWarning: The frame.append method is deprecated and will be removed from pandas in a future version. Use pandas.concat instead.\n",
      "  df = df.append(pd.Series({\n",
      "/tmp/ipykernel_18511/1893919530.py:29: FutureWarning: The frame.append method is deprecated and will be removed from pandas in a future version. Use pandas.concat instead.\n",
      "  df = df.append(pd.Series({\n",
      "/tmp/ipykernel_18511/1893919530.py:29: FutureWarning: The frame.append method is deprecated and will be removed from pandas in a future version. Use pandas.concat instead.\n",
      "  df = df.append(pd.Series({\n",
      "/tmp/ipykernel_18511/1893919530.py:29: FutureWarning: The frame.append method is deprecated and will be removed from pandas in a future version. Use pandas.concat instead.\n",
      "  df = df.append(pd.Series({\n",
      "/tmp/ipykernel_18511/1893919530.py:29: FutureWarning: The frame.append method is deprecated and will be removed from pandas in a future version. Use pandas.concat instead.\n",
      "  df = df.append(pd.Series({\n",
      "/tmp/ipykernel_18511/1893919530.py:29: FutureWarning: The frame.append method is deprecated and will be removed from pandas in a future version. Use pandas.concat instead.\n",
      "  df = df.append(pd.Series({\n",
      "/tmp/ipykernel_18511/1893919530.py:29: FutureWarning: The frame.append method is deprecated and will be removed from pandas in a future version. Use pandas.concat instead.\n",
      "  df = df.append(pd.Series({\n",
      "/tmp/ipykernel_18511/1893919530.py:29: FutureWarning: The frame.append method is deprecated and will be removed from pandas in a future version. Use pandas.concat instead.\n",
      "  df = df.append(pd.Series({\n",
      "/tmp/ipykernel_18511/1893919530.py:29: FutureWarning: The frame.append method is deprecated and will be removed from pandas in a future version. Use pandas.concat instead.\n",
      "  df = df.append(pd.Series({\n",
      "/tmp/ipykernel_18511/1893919530.py:29: FutureWarning: The frame.append method is deprecated and will be removed from pandas in a future version. Use pandas.concat instead.\n",
      "  df = df.append(pd.Series({\n",
      "/tmp/ipykernel_18511/1893919530.py:29: FutureWarning: The frame.append method is deprecated and will be removed from pandas in a future version. Use pandas.concat instead.\n",
      "  df = df.append(pd.Series({\n",
      "/tmp/ipykernel_18511/1893919530.py:29: FutureWarning: The frame.append method is deprecated and will be removed from pandas in a future version. Use pandas.concat instead.\n",
      "  df = df.append(pd.Series({\n",
      "/tmp/ipykernel_18511/1893919530.py:29: FutureWarning: The frame.append method is deprecated and will be removed from pandas in a future version. Use pandas.concat instead.\n",
      "  df = df.append(pd.Series({\n",
      "/tmp/ipykernel_18511/1893919530.py:29: FutureWarning: The frame.append method is deprecated and will be removed from pandas in a future version. Use pandas.concat instead.\n",
      "  df = df.append(pd.Series({\n",
      "/tmp/ipykernel_18511/1893919530.py:29: FutureWarning: The frame.append method is deprecated and will be removed from pandas in a future version. Use pandas.concat instead.\n",
      "  df = df.append(pd.Series({\n",
      "/tmp/ipykernel_18511/1893919530.py:29: FutureWarning: The frame.append method is deprecated and will be removed from pandas in a future version. Use pandas.concat instead.\n",
      "  df = df.append(pd.Series({\n",
      "/tmp/ipykernel_18511/1893919530.py:29: FutureWarning: The frame.append method is deprecated and will be removed from pandas in a future version. Use pandas.concat instead.\n",
      "  df = df.append(pd.Series({\n",
      "/tmp/ipykernel_18511/1893919530.py:29: FutureWarning: The frame.append method is deprecated and will be removed from pandas in a future version. Use pandas.concat instead.\n",
      "  df = df.append(pd.Series({\n",
      "/tmp/ipykernel_18511/1893919530.py:29: FutureWarning: The frame.append method is deprecated and will be removed from pandas in a future version. Use pandas.concat instead.\n",
      "  df = df.append(pd.Series({\n",
      "/tmp/ipykernel_18511/1893919530.py:29: FutureWarning: The frame.append method is deprecated and will be removed from pandas in a future version. Use pandas.concat instead.\n",
      "  df = df.append(pd.Series({\n",
      "/tmp/ipykernel_18511/1893919530.py:29: FutureWarning: The frame.append method is deprecated and will be removed from pandas in a future version. Use pandas.concat instead.\n",
      "  df = df.append(pd.Series({\n",
      "/tmp/ipykernel_18511/1893919530.py:29: FutureWarning: The frame.append method is deprecated and will be removed from pandas in a future version. Use pandas.concat instead.\n",
      "  df = df.append(pd.Series({\n",
      "/tmp/ipykernel_18511/1893919530.py:29: FutureWarning: The frame.append method is deprecated and will be removed from pandas in a future version. Use pandas.concat instead.\n",
      "  df = df.append(pd.Series({\n",
      "/tmp/ipykernel_18511/1893919530.py:29: FutureWarning: The frame.append method is deprecated and will be removed from pandas in a future version. Use pandas.concat instead.\n",
      "  df = df.append(pd.Series({\n",
      "/tmp/ipykernel_18511/1893919530.py:29: FutureWarning: The frame.append method is deprecated and will be removed from pandas in a future version. Use pandas.concat instead.\n",
      "  df = df.append(pd.Series({\n",
      "/tmp/ipykernel_18511/1893919530.py:29: FutureWarning: The frame.append method is deprecated and will be removed from pandas in a future version. Use pandas.concat instead.\n",
      "  df = df.append(pd.Series({\n",
      "/tmp/ipykernel_18511/1893919530.py:29: FutureWarning: The frame.append method is deprecated and will be removed from pandas in a future version. Use pandas.concat instead.\n",
      "  df = df.append(pd.Series({\n",
      "/tmp/ipykernel_18511/1893919530.py:29: FutureWarning: The frame.append method is deprecated and will be removed from pandas in a future version. Use pandas.concat instead.\n",
      "  df = df.append(pd.Series({\n",
      "/tmp/ipykernel_18511/1893919530.py:29: FutureWarning: The frame.append method is deprecated and will be removed from pandas in a future version. Use pandas.concat instead.\n",
      "  df = df.append(pd.Series({\n",
      "/tmp/ipykernel_18511/1893919530.py:29: FutureWarning: The frame.append method is deprecated and will be removed from pandas in a future version. Use pandas.concat instead.\n",
      "  df = df.append(pd.Series({\n",
      "/tmp/ipykernel_18511/1893919530.py:29: FutureWarning: The frame.append method is deprecated and will be removed from pandas in a future version. Use pandas.concat instead.\n",
      "  df = df.append(pd.Series({\n",
      "/tmp/ipykernel_18511/1893919530.py:29: FutureWarning: The frame.append method is deprecated and will be removed from pandas in a future version. Use pandas.concat instead.\n",
      "  df = df.append(pd.Series({\n",
      "/tmp/ipykernel_18511/1893919530.py:29: FutureWarning: The frame.append method is deprecated and will be removed from pandas in a future version. Use pandas.concat instead.\n",
      "  df = df.append(pd.Series({\n"
     ]
    }
   ],
   "source": [
    "gene = \"02_PDZD8KO\"\n",
    "crop_no = \"Cropped_01\"\n",
    "\n",
    "BASE =  f\"/home/neurobiology/drobo/DeepLearningData/083_KN_Exp313-AT/annotations/{gene}/{crop_no}/\"\n",
    "mito_path = f\"{BASE}/selected_mito/\"\n",
    "#mercs_path = f\"{BASE}/modified_mercs\"\n",
    "out_dir = f\"/home/neurobiology/drobo/DeepLearningData/083_KN_Exp313-AT/Data/{gene}/{crop_no}/\"\n",
    "out_filename = \"mito_001_non3D.csv\"\n",
    "\n",
    "\n",
    "if __name__ == \"__main__\":\n",
    "    main(mito_path, out_dir, out_filename)"
   ]
  },
  {
   "cell_type": "code",
   "execution_count": 7,
   "metadata": {},
   "outputs": [
    {
     "name": "stdout",
     "output_type": "stream",
     "text": [
      "(74, 1056, 1320, 1)\n"
     ]
    },
    {
     "data": {
      "application/vnd.jupyter.widget-view+json": {
       "model_id": "2971e7a1454a40d38bf7252f75756c08",
       "version_major": 2,
       "version_minor": 0
      },
      "text/plain": [
       "  0%|          | 0/27 [00:00<?, ?it/s]"
      ]
     },
     "metadata": {},
     "output_type": "display_data"
    },
    {
     "name": "stderr",
     "output_type": "stream",
     "text": [
      "/tmp/ipykernel_18511/1893919530.py:29: FutureWarning: The frame.append method is deprecated and will be removed from pandas in a future version. Use pandas.concat instead.\n",
      "  df = df.append(pd.Series({\n",
      "/tmp/ipykernel_18511/1893919530.py:29: FutureWarning: The frame.append method is deprecated and will be removed from pandas in a future version. Use pandas.concat instead.\n",
      "  df = df.append(pd.Series({\n",
      "/tmp/ipykernel_18511/1893919530.py:29: FutureWarning: The frame.append method is deprecated and will be removed from pandas in a future version. Use pandas.concat instead.\n",
      "  df = df.append(pd.Series({\n",
      "/tmp/ipykernel_18511/1893919530.py:29: FutureWarning: The frame.append method is deprecated and will be removed from pandas in a future version. Use pandas.concat instead.\n",
      "  df = df.append(pd.Series({\n",
      "/tmp/ipykernel_18511/1893919530.py:29: FutureWarning: The frame.append method is deprecated and will be removed from pandas in a future version. Use pandas.concat instead.\n",
      "  df = df.append(pd.Series({\n",
      "/tmp/ipykernel_18511/1893919530.py:29: FutureWarning: The frame.append method is deprecated and will be removed from pandas in a future version. Use pandas.concat instead.\n",
      "  df = df.append(pd.Series({\n",
      "/tmp/ipykernel_18511/1893919530.py:29: FutureWarning: The frame.append method is deprecated and will be removed from pandas in a future version. Use pandas.concat instead.\n",
      "  df = df.append(pd.Series({\n",
      "/tmp/ipykernel_18511/1893919530.py:29: FutureWarning: The frame.append method is deprecated and will be removed from pandas in a future version. Use pandas.concat instead.\n",
      "  df = df.append(pd.Series({\n",
      "/tmp/ipykernel_18511/1893919530.py:29: FutureWarning: The frame.append method is deprecated and will be removed from pandas in a future version. Use pandas.concat instead.\n",
      "  df = df.append(pd.Series({\n",
      "/tmp/ipykernel_18511/1893919530.py:29: FutureWarning: The frame.append method is deprecated and will be removed from pandas in a future version. Use pandas.concat instead.\n",
      "  df = df.append(pd.Series({\n",
      "/tmp/ipykernel_18511/1893919530.py:29: FutureWarning: The frame.append method is deprecated and will be removed from pandas in a future version. Use pandas.concat instead.\n",
      "  df = df.append(pd.Series({\n",
      "/tmp/ipykernel_18511/1893919530.py:29: FutureWarning: The frame.append method is deprecated and will be removed from pandas in a future version. Use pandas.concat instead.\n",
      "  df = df.append(pd.Series({\n",
      "/tmp/ipykernel_18511/1893919530.py:29: FutureWarning: The frame.append method is deprecated and will be removed from pandas in a future version. Use pandas.concat instead.\n",
      "  df = df.append(pd.Series({\n",
      "/tmp/ipykernel_18511/1893919530.py:29: FutureWarning: The frame.append method is deprecated and will be removed from pandas in a future version. Use pandas.concat instead.\n",
      "  df = df.append(pd.Series({\n",
      "/tmp/ipykernel_18511/1893919530.py:29: FutureWarning: The frame.append method is deprecated and will be removed from pandas in a future version. Use pandas.concat instead.\n",
      "  df = df.append(pd.Series({\n",
      "/tmp/ipykernel_18511/1893919530.py:29: FutureWarning: The frame.append method is deprecated and will be removed from pandas in a future version. Use pandas.concat instead.\n",
      "  df = df.append(pd.Series({\n",
      "/tmp/ipykernel_18511/1893919530.py:29: FutureWarning: The frame.append method is deprecated and will be removed from pandas in a future version. Use pandas.concat instead.\n",
      "  df = df.append(pd.Series({\n",
      "/tmp/ipykernel_18511/1893919530.py:29: FutureWarning: The frame.append method is deprecated and will be removed from pandas in a future version. Use pandas.concat instead.\n",
      "  df = df.append(pd.Series({\n",
      "/tmp/ipykernel_18511/1893919530.py:29: FutureWarning: The frame.append method is deprecated and will be removed from pandas in a future version. Use pandas.concat instead.\n",
      "  df = df.append(pd.Series({\n",
      "/tmp/ipykernel_18511/1893919530.py:29: FutureWarning: The frame.append method is deprecated and will be removed from pandas in a future version. Use pandas.concat instead.\n",
      "  df = df.append(pd.Series({\n",
      "/tmp/ipykernel_18511/1893919530.py:29: FutureWarning: The frame.append method is deprecated and will be removed from pandas in a future version. Use pandas.concat instead.\n",
      "  df = df.append(pd.Series({\n",
      "/tmp/ipykernel_18511/1893919530.py:29: FutureWarning: The frame.append method is deprecated and will be removed from pandas in a future version. Use pandas.concat instead.\n",
      "  df = df.append(pd.Series({\n",
      "/tmp/ipykernel_18511/1893919530.py:29: FutureWarning: The frame.append method is deprecated and will be removed from pandas in a future version. Use pandas.concat instead.\n",
      "  df = df.append(pd.Series({\n",
      "/tmp/ipykernel_18511/1893919530.py:29: FutureWarning: The frame.append method is deprecated and will be removed from pandas in a future version. Use pandas.concat instead.\n",
      "  df = df.append(pd.Series({\n",
      "/tmp/ipykernel_18511/1893919530.py:29: FutureWarning: The frame.append method is deprecated and will be removed from pandas in a future version. Use pandas.concat instead.\n",
      "  df = df.append(pd.Series({\n",
      "/tmp/ipykernel_18511/1893919530.py:29: FutureWarning: The frame.append method is deprecated and will be removed from pandas in a future version. Use pandas.concat instead.\n",
      "  df = df.append(pd.Series({\n",
      "/tmp/ipykernel_18511/1893919530.py:29: FutureWarning: The frame.append method is deprecated and will be removed from pandas in a future version. Use pandas.concat instead.\n",
      "  df = df.append(pd.Series({\n"
     ]
    }
   ],
   "source": [
    "gene = \"02_PDZD8KO\"\n",
    "crop_no = \"Cropped_02\"\n",
    "\n",
    "BASE =  f\"/home/neurobiology/drobo/DeepLearningData/083_KN_Exp313-AT/annotations/{gene}/{crop_no}/\"\n",
    "mito_path = f\"{BASE}/selected_mito/\"\n",
    "#mercs_path = f\"{BASE}/modified_mercs\"\n",
    "out_dir = f\"/home/neurobiology/drobo/DeepLearningData/083_KN_Exp313-AT/Data/{gene}/{crop_no}/\"\n",
    "out_filename = \"mito_001_non3D.csv\"\n",
    "\n",
    "if __name__ == \"__main__\":\n",
    "    main(mito_path, out_dir, out_filename)"
   ]
  },
  {
   "cell_type": "code",
   "execution_count": 8,
   "metadata": {},
   "outputs": [
    {
     "name": "stdout",
     "output_type": "stream",
     "text": [
      "(74, 916, 1600, 1)\n"
     ]
    },
    {
     "data": {
      "application/vnd.jupyter.widget-view+json": {
       "model_id": "fda7191eba2c48069ea6da9afc27395b",
       "version_major": 2,
       "version_minor": 0
      },
      "text/plain": [
       "  0%|          | 0/8 [00:00<?, ?it/s]"
      ]
     },
     "metadata": {},
     "output_type": "display_data"
    },
    {
     "name": "stderr",
     "output_type": "stream",
     "text": [
      "/tmp/ipykernel_18511/1893919530.py:29: FutureWarning: The frame.append method is deprecated and will be removed from pandas in a future version. Use pandas.concat instead.\n",
      "  df = df.append(pd.Series({\n",
      "/tmp/ipykernel_18511/1893919530.py:29: FutureWarning: The frame.append method is deprecated and will be removed from pandas in a future version. Use pandas.concat instead.\n",
      "  df = df.append(pd.Series({\n",
      "/tmp/ipykernel_18511/1893919530.py:29: FutureWarning: The frame.append method is deprecated and will be removed from pandas in a future version. Use pandas.concat instead.\n",
      "  df = df.append(pd.Series({\n",
      "/tmp/ipykernel_18511/1893919530.py:29: FutureWarning: The frame.append method is deprecated and will be removed from pandas in a future version. Use pandas.concat instead.\n",
      "  df = df.append(pd.Series({\n",
      "/tmp/ipykernel_18511/1893919530.py:29: FutureWarning: The frame.append method is deprecated and will be removed from pandas in a future version. Use pandas.concat instead.\n",
      "  df = df.append(pd.Series({\n",
      "/tmp/ipykernel_18511/1893919530.py:29: FutureWarning: The frame.append method is deprecated and will be removed from pandas in a future version. Use pandas.concat instead.\n",
      "  df = df.append(pd.Series({\n",
      "/tmp/ipykernel_18511/1893919530.py:29: FutureWarning: The frame.append method is deprecated and will be removed from pandas in a future version. Use pandas.concat instead.\n",
      "  df = df.append(pd.Series({\n",
      "/tmp/ipykernel_18511/1893919530.py:29: FutureWarning: The frame.append method is deprecated and will be removed from pandas in a future version. Use pandas.concat instead.\n",
      "  df = df.append(pd.Series({\n"
     ]
    }
   ],
   "source": [
    "gene = \"02_PDZD8KO\"\n",
    "crop_no = \"Cropped_03\"\n",
    "\n",
    "BASE =  f\"/home/neurobiology/drobo/DeepLearningData/083_KN_Exp313-AT/annotations/{gene}/{crop_no}/\"\n",
    "mito_path = f\"{BASE}/selected_mito/\"\n",
    "#mercs_path = f\"{BASE}/modified_mercs\"\n",
    "out_dir = f\"/home/neurobiology/drobo/DeepLearningData/083_KN_Exp313-AT/Data/{gene}/{crop_no}/\"\n",
    "out_filename = \"mito_001_non3D.csv\"\n",
    "\n",
    "\n",
    "if __name__ == \"__main__\":\n",
    "    main(mito_path, out_dir, out_filename)"
   ]
  },
  {
   "cell_type": "code",
   "execution_count": 9,
   "metadata": {
    "scrolled": true
   },
   "outputs": [
    {
     "name": "stdout",
     "output_type": "stream",
     "text": [
      "(74, 1428, 2060, 1)\n"
     ]
    },
    {
     "data": {
      "application/vnd.jupyter.widget-view+json": {
       "model_id": "31d792d5d2784d10828b1460d80f5174",
       "version_major": 2,
       "version_minor": 0
      },
      "text/plain": [
       "  0%|          | 0/15 [00:00<?, ?it/s]"
      ]
     },
     "metadata": {},
     "output_type": "display_data"
    },
    {
     "name": "stderr",
     "output_type": "stream",
     "text": [
      "/tmp/ipykernel_18511/1893919530.py:29: FutureWarning: The frame.append method is deprecated and will be removed from pandas in a future version. Use pandas.concat instead.\n",
      "  df = df.append(pd.Series({\n",
      "/tmp/ipykernel_18511/1893919530.py:29: FutureWarning: The frame.append method is deprecated and will be removed from pandas in a future version. Use pandas.concat instead.\n",
      "  df = df.append(pd.Series({\n",
      "/tmp/ipykernel_18511/1893919530.py:29: FutureWarning: The frame.append method is deprecated and will be removed from pandas in a future version. Use pandas.concat instead.\n",
      "  df = df.append(pd.Series({\n",
      "/tmp/ipykernel_18511/1893919530.py:29: FutureWarning: The frame.append method is deprecated and will be removed from pandas in a future version. Use pandas.concat instead.\n",
      "  df = df.append(pd.Series({\n",
      "/tmp/ipykernel_18511/1893919530.py:29: FutureWarning: The frame.append method is deprecated and will be removed from pandas in a future version. Use pandas.concat instead.\n",
      "  df = df.append(pd.Series({\n",
      "/tmp/ipykernel_18511/1893919530.py:29: FutureWarning: The frame.append method is deprecated and will be removed from pandas in a future version. Use pandas.concat instead.\n",
      "  df = df.append(pd.Series({\n",
      "/tmp/ipykernel_18511/1893919530.py:29: FutureWarning: The frame.append method is deprecated and will be removed from pandas in a future version. Use pandas.concat instead.\n",
      "  df = df.append(pd.Series({\n",
      "/tmp/ipykernel_18511/1893919530.py:29: FutureWarning: The frame.append method is deprecated and will be removed from pandas in a future version. Use pandas.concat instead.\n",
      "  df = df.append(pd.Series({\n",
      "/tmp/ipykernel_18511/1893919530.py:29: FutureWarning: The frame.append method is deprecated and will be removed from pandas in a future version. Use pandas.concat instead.\n",
      "  df = df.append(pd.Series({\n",
      "/tmp/ipykernel_18511/1893919530.py:29: FutureWarning: The frame.append method is deprecated and will be removed from pandas in a future version. Use pandas.concat instead.\n",
      "  df = df.append(pd.Series({\n",
      "/tmp/ipykernel_18511/1893919530.py:29: FutureWarning: The frame.append method is deprecated and will be removed from pandas in a future version. Use pandas.concat instead.\n",
      "  df = df.append(pd.Series({\n",
      "/tmp/ipykernel_18511/1893919530.py:29: FutureWarning: The frame.append method is deprecated and will be removed from pandas in a future version. Use pandas.concat instead.\n",
      "  df = df.append(pd.Series({\n",
      "/tmp/ipykernel_18511/1893919530.py:29: FutureWarning: The frame.append method is deprecated and will be removed from pandas in a future version. Use pandas.concat instead.\n",
      "  df = df.append(pd.Series({\n",
      "/tmp/ipykernel_18511/1893919530.py:29: FutureWarning: The frame.append method is deprecated and will be removed from pandas in a future version. Use pandas.concat instead.\n",
      "  df = df.append(pd.Series({\n",
      "/tmp/ipykernel_18511/1893919530.py:29: FutureWarning: The frame.append method is deprecated and will be removed from pandas in a future version. Use pandas.concat instead.\n",
      "  df = df.append(pd.Series({\n"
     ]
    }
   ],
   "source": [
    "gene = \"02_PDZD8KO\"\n",
    "crop_no = \"Cropped_04\"\n",
    "\n",
    "BASE =  f\"/home/neurobiology/drobo/DeepLearningData/083_KN_Exp313-AT/annotations/{gene}/{crop_no}/\"\n",
    "mito_path = f\"{BASE}/selected_mito/\"\n",
    "#mercs_path = f\"{BASE}/modified_mercs\"\n",
    "out_dir = f\"/home/neurobiology/drobo/DeepLearningData/083_KN_Exp313-AT/Data/{gene}/{crop_no}/\"\n",
    "out_filename = \"mito_001_non3D.csv\"\n",
    "\n",
    "\n",
    "if __name__ == \"__main__\":\n",
    "    main(mito_path, out_dir, out_filename)"
   ]
  },
  {
   "cell_type": "code",
   "execution_count": 10,
   "metadata": {},
   "outputs": [
    {
     "name": "stdout",
     "output_type": "stream",
     "text": [
      "(74, 2172, 3078, 1)\n"
     ]
    },
    {
     "data": {
      "application/vnd.jupyter.widget-view+json": {
       "model_id": "857f9cdd130545f796fec4570672a260",
       "version_major": 2,
       "version_minor": 0
      },
      "text/plain": [
       "  0%|          | 0/13 [00:00<?, ?it/s]"
      ]
     },
     "metadata": {},
     "output_type": "display_data"
    },
    {
     "name": "stderr",
     "output_type": "stream",
     "text": [
      "/tmp/ipykernel_18511/1893919530.py:29: FutureWarning: The frame.append method is deprecated and will be removed from pandas in a future version. Use pandas.concat instead.\n",
      "  df = df.append(pd.Series({\n",
      "/tmp/ipykernel_18511/1893919530.py:29: FutureWarning: The frame.append method is deprecated and will be removed from pandas in a future version. Use pandas.concat instead.\n",
      "  df = df.append(pd.Series({\n",
      "/tmp/ipykernel_18511/1893919530.py:29: FutureWarning: The frame.append method is deprecated and will be removed from pandas in a future version. Use pandas.concat instead.\n",
      "  df = df.append(pd.Series({\n",
      "/tmp/ipykernel_18511/1893919530.py:29: FutureWarning: The frame.append method is deprecated and will be removed from pandas in a future version. Use pandas.concat instead.\n",
      "  df = df.append(pd.Series({\n",
      "/tmp/ipykernel_18511/1893919530.py:29: FutureWarning: The frame.append method is deprecated and will be removed from pandas in a future version. Use pandas.concat instead.\n",
      "  df = df.append(pd.Series({\n",
      "/tmp/ipykernel_18511/1893919530.py:29: FutureWarning: The frame.append method is deprecated and will be removed from pandas in a future version. Use pandas.concat instead.\n",
      "  df = df.append(pd.Series({\n",
      "/tmp/ipykernel_18511/1893919530.py:29: FutureWarning: The frame.append method is deprecated and will be removed from pandas in a future version. Use pandas.concat instead.\n",
      "  df = df.append(pd.Series({\n",
      "/tmp/ipykernel_18511/1893919530.py:29: FutureWarning: The frame.append method is deprecated and will be removed from pandas in a future version. Use pandas.concat instead.\n",
      "  df = df.append(pd.Series({\n",
      "/tmp/ipykernel_18511/1893919530.py:29: FutureWarning: The frame.append method is deprecated and will be removed from pandas in a future version. Use pandas.concat instead.\n",
      "  df = df.append(pd.Series({\n",
      "/tmp/ipykernel_18511/1893919530.py:29: FutureWarning: The frame.append method is deprecated and will be removed from pandas in a future version. Use pandas.concat instead.\n",
      "  df = df.append(pd.Series({\n",
      "/tmp/ipykernel_18511/1893919530.py:29: FutureWarning: The frame.append method is deprecated and will be removed from pandas in a future version. Use pandas.concat instead.\n",
      "  df = df.append(pd.Series({\n",
      "/tmp/ipykernel_18511/1893919530.py:29: FutureWarning: The frame.append method is deprecated and will be removed from pandas in a future version. Use pandas.concat instead.\n",
      "  df = df.append(pd.Series({\n",
      "/tmp/ipykernel_18511/1893919530.py:29: FutureWarning: The frame.append method is deprecated and will be removed from pandas in a future version. Use pandas.concat instead.\n",
      "  df = df.append(pd.Series({\n"
     ]
    }
   ],
   "source": [
    "gene = \"02_PDZD8KO\"\n",
    "crop_no = \"Cropped_05\"\n",
    "\n",
    "BASE =  f\"/home/neurobiology/drobo/DeepLearningData/083_KN_Exp313-AT/annotations/{gene}/{crop_no}/\"\n",
    "mito_path = f\"{BASE}/selected_mito/\"\n",
    "#mercs_path = f\"{BASE}/modified_mercs\"\n",
    "out_dir = f\"/home/neurobiology/drobo/DeepLearningData/083_KN_Exp313-AT/Data/{gene}/{crop_no}/\"\n",
    "out_filename = \"mito_001_non3D.csv\"\n",
    "\n",
    "\n",
    "if __name__ == \"__main__\":\n",
    "    main(mito_path, out_dir, out_filename)"
   ]
  },
  {
   "cell_type": "code",
   "execution_count": 11,
   "metadata": {
    "scrolled": true
   },
   "outputs": [
    {
     "name": "stdout",
     "output_type": "stream",
     "text": [
      "(74, 1776, 544, 1)\n"
     ]
    },
    {
     "data": {
      "application/vnd.jupyter.widget-view+json": {
       "model_id": "647b916abe484f599cdf9c79982292c0",
       "version_major": 2,
       "version_minor": 0
      },
      "text/plain": [
       "  0%|          | 0/18 [00:00<?, ?it/s]"
      ]
     },
     "metadata": {},
     "output_type": "display_data"
    },
    {
     "name": "stderr",
     "output_type": "stream",
     "text": [
      "/tmp/ipykernel_18511/1893919530.py:29: FutureWarning: The frame.append method is deprecated and will be removed from pandas in a future version. Use pandas.concat instead.\n",
      "  df = df.append(pd.Series({\n",
      "/tmp/ipykernel_18511/1893919530.py:29: FutureWarning: The frame.append method is deprecated and will be removed from pandas in a future version. Use pandas.concat instead.\n",
      "  df = df.append(pd.Series({\n",
      "/tmp/ipykernel_18511/1893919530.py:29: FutureWarning: The frame.append method is deprecated and will be removed from pandas in a future version. Use pandas.concat instead.\n",
      "  df = df.append(pd.Series({\n",
      "/tmp/ipykernel_18511/1893919530.py:29: FutureWarning: The frame.append method is deprecated and will be removed from pandas in a future version. Use pandas.concat instead.\n",
      "  df = df.append(pd.Series({\n",
      "/tmp/ipykernel_18511/1893919530.py:29: FutureWarning: The frame.append method is deprecated and will be removed from pandas in a future version. Use pandas.concat instead.\n",
      "  df = df.append(pd.Series({\n",
      "/tmp/ipykernel_18511/1893919530.py:29: FutureWarning: The frame.append method is deprecated and will be removed from pandas in a future version. Use pandas.concat instead.\n",
      "  df = df.append(pd.Series({\n",
      "/tmp/ipykernel_18511/1893919530.py:29: FutureWarning: The frame.append method is deprecated and will be removed from pandas in a future version. Use pandas.concat instead.\n",
      "  df = df.append(pd.Series({\n",
      "/tmp/ipykernel_18511/1893919530.py:29: FutureWarning: The frame.append method is deprecated and will be removed from pandas in a future version. Use pandas.concat instead.\n",
      "  df = df.append(pd.Series({\n",
      "/tmp/ipykernel_18511/1893919530.py:29: FutureWarning: The frame.append method is deprecated and will be removed from pandas in a future version. Use pandas.concat instead.\n",
      "  df = df.append(pd.Series({\n",
      "/tmp/ipykernel_18511/1893919530.py:29: FutureWarning: The frame.append method is deprecated and will be removed from pandas in a future version. Use pandas.concat instead.\n",
      "  df = df.append(pd.Series({\n",
      "/tmp/ipykernel_18511/1893919530.py:29: FutureWarning: The frame.append method is deprecated and will be removed from pandas in a future version. Use pandas.concat instead.\n",
      "  df = df.append(pd.Series({\n",
      "/tmp/ipykernel_18511/1893919530.py:29: FutureWarning: The frame.append method is deprecated and will be removed from pandas in a future version. Use pandas.concat instead.\n",
      "  df = df.append(pd.Series({\n",
      "/tmp/ipykernel_18511/1893919530.py:29: FutureWarning: The frame.append method is deprecated and will be removed from pandas in a future version. Use pandas.concat instead.\n",
      "  df = df.append(pd.Series({\n",
      "/tmp/ipykernel_18511/1893919530.py:29: FutureWarning: The frame.append method is deprecated and will be removed from pandas in a future version. Use pandas.concat instead.\n",
      "  df = df.append(pd.Series({\n",
      "/tmp/ipykernel_18511/1893919530.py:29: FutureWarning: The frame.append method is deprecated and will be removed from pandas in a future version. Use pandas.concat instead.\n",
      "  df = df.append(pd.Series({\n",
      "/tmp/ipykernel_18511/1893919530.py:29: FutureWarning: The frame.append method is deprecated and will be removed from pandas in a future version. Use pandas.concat instead.\n",
      "  df = df.append(pd.Series({\n",
      "/tmp/ipykernel_18511/1893919530.py:29: FutureWarning: The frame.append method is deprecated and will be removed from pandas in a future version. Use pandas.concat instead.\n",
      "  df = df.append(pd.Series({\n",
      "/tmp/ipykernel_18511/1893919530.py:29: FutureWarning: The frame.append method is deprecated and will be removed from pandas in a future version. Use pandas.concat instead.\n",
      "  df = df.append(pd.Series({\n"
     ]
    }
   ],
   "source": [
    "gene = \"01_Control\"\n",
    "crop_no = \"Cropped_01\"\n",
    "\n",
    "BASE =  f\"/home/neurobiology/drobo/DeepLearningData/083_KN_Exp313-AT/annotations/{gene}/{crop_no}/\"\n",
    "mito_path = f\"{BASE}/selected_mito_0-73/\"\n",
    "#mercs_path = f\"{BASE}/modified_mercs\"\n",
    "out_dir = f\"/home/neurobiology/drobo/DeepLearningData/083_KN_Exp313-AT/Data/{gene}/{crop_no}/\"\n",
    "out_filename = \"mito_001_0-73_non3D.csv\"\n",
    "\n",
    "if __name__ == \"__main__\":\n",
    "    main(mito_path, out_dir, out_filename)"
   ]
  },
  {
   "cell_type": "code",
   "execution_count": 12,
   "metadata": {
    "scrolled": true
   },
   "outputs": [
    {
     "name": "stdout",
     "output_type": "stream",
     "text": [
      "(74, 1050, 1368, 1)\n"
     ]
    },
    {
     "data": {
      "application/vnd.jupyter.widget-view+json": {
       "model_id": "f3945d1a3e7c4e9583d6875f89b6ae76",
       "version_major": 2,
       "version_minor": 0
      },
      "text/plain": [
       "  0%|          | 0/3 [00:00<?, ?it/s]"
      ]
     },
     "metadata": {},
     "output_type": "display_data"
    },
    {
     "name": "stderr",
     "output_type": "stream",
     "text": [
      "/tmp/ipykernel_18511/1893919530.py:29: FutureWarning: The frame.append method is deprecated and will be removed from pandas in a future version. Use pandas.concat instead.\n",
      "  df = df.append(pd.Series({\n",
      "/tmp/ipykernel_18511/1893919530.py:29: FutureWarning: The frame.append method is deprecated and will be removed from pandas in a future version. Use pandas.concat instead.\n",
      "  df = df.append(pd.Series({\n",
      "/tmp/ipykernel_18511/1893919530.py:29: FutureWarning: The frame.append method is deprecated and will be removed from pandas in a future version. Use pandas.concat instead.\n",
      "  df = df.append(pd.Series({\n"
     ]
    }
   ],
   "source": [
    "gene = \"01_Control\"\n",
    "crop_no = \"Cropped_02\"\n",
    "\n",
    "BASE =  f\"/home/neurobiology/drobo/DeepLearningData/083_KN_Exp313-AT/annotations/{gene}/{crop_no}/\"\n",
    "mito_path = f\"{BASE}/selected_mito_0-73/\"\n",
    "#mercs_path = f\"{BASE}/modified_mercs\"\n",
    "out_dir = f\"/home/neurobiology/drobo/DeepLearningData/083_KN_Exp313-AT/Data/{gene}/{crop_no}/\"\n",
    "out_filename = \"mito_001_0-73_non3D.csv\"\n",
    "\n",
    "if __name__ == \"__main__\":\n",
    "    main(mito_path, out_dir, out_filename)"
   ]
  },
  {
   "cell_type": "code",
   "execution_count": 13,
   "metadata": {
    "scrolled": true
   },
   "outputs": [
    {
     "name": "stdout",
     "output_type": "stream",
     "text": [
      "(74, 2448, 1518, 1)\n"
     ]
    },
    {
     "data": {
      "application/vnd.jupyter.widget-view+json": {
       "model_id": "33e812ef197242368ee692181c41bf28",
       "version_major": 2,
       "version_minor": 0
      },
      "text/plain": [
       "  0%|          | 0/20 [00:00<?, ?it/s]"
      ]
     },
     "metadata": {},
     "output_type": "display_data"
    },
    {
     "name": "stderr",
     "output_type": "stream",
     "text": [
      "/tmp/ipykernel_18511/1893919530.py:29: FutureWarning: The frame.append method is deprecated and will be removed from pandas in a future version. Use pandas.concat instead.\n",
      "  df = df.append(pd.Series({\n",
      "/tmp/ipykernel_18511/1893919530.py:29: FutureWarning: The frame.append method is deprecated and will be removed from pandas in a future version. Use pandas.concat instead.\n",
      "  df = df.append(pd.Series({\n",
      "/tmp/ipykernel_18511/1893919530.py:29: FutureWarning: The frame.append method is deprecated and will be removed from pandas in a future version. Use pandas.concat instead.\n",
      "  df = df.append(pd.Series({\n",
      "/tmp/ipykernel_18511/1893919530.py:29: FutureWarning: The frame.append method is deprecated and will be removed from pandas in a future version. Use pandas.concat instead.\n",
      "  df = df.append(pd.Series({\n",
      "/tmp/ipykernel_18511/1893919530.py:29: FutureWarning: The frame.append method is deprecated and will be removed from pandas in a future version. Use pandas.concat instead.\n",
      "  df = df.append(pd.Series({\n",
      "/tmp/ipykernel_18511/1893919530.py:29: FutureWarning: The frame.append method is deprecated and will be removed from pandas in a future version. Use pandas.concat instead.\n",
      "  df = df.append(pd.Series({\n",
      "/tmp/ipykernel_18511/1893919530.py:29: FutureWarning: The frame.append method is deprecated and will be removed from pandas in a future version. Use pandas.concat instead.\n",
      "  df = df.append(pd.Series({\n",
      "/tmp/ipykernel_18511/1893919530.py:29: FutureWarning: The frame.append method is deprecated and will be removed from pandas in a future version. Use pandas.concat instead.\n",
      "  df = df.append(pd.Series({\n",
      "/tmp/ipykernel_18511/1893919530.py:29: FutureWarning: The frame.append method is deprecated and will be removed from pandas in a future version. Use pandas.concat instead.\n",
      "  df = df.append(pd.Series({\n",
      "/tmp/ipykernel_18511/1893919530.py:29: FutureWarning: The frame.append method is deprecated and will be removed from pandas in a future version. Use pandas.concat instead.\n",
      "  df = df.append(pd.Series({\n",
      "/tmp/ipykernel_18511/1893919530.py:29: FutureWarning: The frame.append method is deprecated and will be removed from pandas in a future version. Use pandas.concat instead.\n",
      "  df = df.append(pd.Series({\n",
      "/tmp/ipykernel_18511/1893919530.py:29: FutureWarning: The frame.append method is deprecated and will be removed from pandas in a future version. Use pandas.concat instead.\n",
      "  df = df.append(pd.Series({\n",
      "/tmp/ipykernel_18511/1893919530.py:29: FutureWarning: The frame.append method is deprecated and will be removed from pandas in a future version. Use pandas.concat instead.\n",
      "  df = df.append(pd.Series({\n",
      "/tmp/ipykernel_18511/1893919530.py:29: FutureWarning: The frame.append method is deprecated and will be removed from pandas in a future version. Use pandas.concat instead.\n",
      "  df = df.append(pd.Series({\n",
      "/tmp/ipykernel_18511/1893919530.py:29: FutureWarning: The frame.append method is deprecated and will be removed from pandas in a future version. Use pandas.concat instead.\n",
      "  df = df.append(pd.Series({\n",
      "/tmp/ipykernel_18511/1893919530.py:29: FutureWarning: The frame.append method is deprecated and will be removed from pandas in a future version. Use pandas.concat instead.\n",
      "  df = df.append(pd.Series({\n",
      "/tmp/ipykernel_18511/1893919530.py:29: FutureWarning: The frame.append method is deprecated and will be removed from pandas in a future version. Use pandas.concat instead.\n",
      "  df = df.append(pd.Series({\n",
      "/tmp/ipykernel_18511/1893919530.py:29: FutureWarning: The frame.append method is deprecated and will be removed from pandas in a future version. Use pandas.concat instead.\n",
      "  df = df.append(pd.Series({\n",
      "/tmp/ipykernel_18511/1893919530.py:29: FutureWarning: The frame.append method is deprecated and will be removed from pandas in a future version. Use pandas.concat instead.\n",
      "  df = df.append(pd.Series({\n",
      "/tmp/ipykernel_18511/1893919530.py:29: FutureWarning: The frame.append method is deprecated and will be removed from pandas in a future version. Use pandas.concat instead.\n",
      "  df = df.append(pd.Series({\n"
     ]
    }
   ],
   "source": [
    "gene = \"01_Control\"\n",
    "crop_no = \"Cropped_03\"\n",
    "\n",
    "BASE =  f\"/home/neurobiology/drobo/DeepLearningData/083_KN_Exp313-AT/annotations/{gene}/{crop_no}/\"\n",
    "mito_path = f\"{BASE}/selected_mito_0-73/\"\n",
    "#mercs_path = f\"{BASE}/modified_mercs\"\n",
    "out_dir = f\"/home/neurobiology/drobo/DeepLearningData/083_KN_Exp313-AT/Data/{gene}/{crop_no}/\"\n",
    "out_filename = \"mito_001_0-73_non3D.csv\"\n",
    "\n",
    "if __name__ == \"__main__\":\n",
    "    main(mito_path, out_dir, out_filename)"
   ]
  },
  {
   "cell_type": "code",
   "execution_count": 14,
   "metadata": {},
   "outputs": [
    {
     "name": "stdout",
     "output_type": "stream",
     "text": [
      "(74, 1086, 1866, 1)\n"
     ]
    },
    {
     "data": {
      "application/vnd.jupyter.widget-view+json": {
       "model_id": "d01dd87de89f4ec5ab45918f970193f4",
       "version_major": 2,
       "version_minor": 0
      },
      "text/plain": [
       "  0%|          | 0/8 [00:00<?, ?it/s]"
      ]
     },
     "metadata": {},
     "output_type": "display_data"
    },
    {
     "name": "stderr",
     "output_type": "stream",
     "text": [
      "/tmp/ipykernel_18511/1893919530.py:29: FutureWarning: The frame.append method is deprecated and will be removed from pandas in a future version. Use pandas.concat instead.\n",
      "  df = df.append(pd.Series({\n",
      "/tmp/ipykernel_18511/1893919530.py:29: FutureWarning: The frame.append method is deprecated and will be removed from pandas in a future version. Use pandas.concat instead.\n",
      "  df = df.append(pd.Series({\n",
      "/tmp/ipykernel_18511/1893919530.py:29: FutureWarning: The frame.append method is deprecated and will be removed from pandas in a future version. Use pandas.concat instead.\n",
      "  df = df.append(pd.Series({\n",
      "/tmp/ipykernel_18511/1893919530.py:29: FutureWarning: The frame.append method is deprecated and will be removed from pandas in a future version. Use pandas.concat instead.\n",
      "  df = df.append(pd.Series({\n",
      "/tmp/ipykernel_18511/1893919530.py:29: FutureWarning: The frame.append method is deprecated and will be removed from pandas in a future version. Use pandas.concat instead.\n",
      "  df = df.append(pd.Series({\n",
      "/tmp/ipykernel_18511/1893919530.py:29: FutureWarning: The frame.append method is deprecated and will be removed from pandas in a future version. Use pandas.concat instead.\n",
      "  df = df.append(pd.Series({\n",
      "/tmp/ipykernel_18511/1893919530.py:29: FutureWarning: The frame.append method is deprecated and will be removed from pandas in a future version. Use pandas.concat instead.\n",
      "  df = df.append(pd.Series({\n",
      "/tmp/ipykernel_18511/1893919530.py:29: FutureWarning: The frame.append method is deprecated and will be removed from pandas in a future version. Use pandas.concat instead.\n",
      "  df = df.append(pd.Series({\n"
     ]
    }
   ],
   "source": [
    "gene = \"01_Control\"\n",
    "crop_no = \"Cropped_04\"\n",
    "\n",
    "BASE =  f\"/home/neurobiology/drobo/DeepLearningData/083_KN_Exp313-AT/annotations/{gene}/{crop_no}/\"\n",
    "mito_path = f\"{BASE}/selected_mito_0-73/\"\n",
    "#mercs_path = f\"{BASE}/modified_mercs\"\n",
    "out_dir = f\"/home/neurobiology/drobo/DeepLearningData/083_KN_Exp313-AT/Data/{gene}/{crop_no}/\"\n",
    "out_filename = \"mito_001_0-73_non3D.csv\"\n",
    "\n",
    "if __name__ == \"__main__\":\n",
    "    main(mito_path, out_dir, out_filename)"
   ]
  },
  {
   "cell_type": "code",
   "execution_count": 15,
   "metadata": {},
   "outputs": [
    {
     "name": "stdout",
     "output_type": "stream",
     "text": [
      "(74, 822, 1698, 1)\n"
     ]
    },
    {
     "data": {
      "application/vnd.jupyter.widget-view+json": {
       "model_id": "87ee62ceec3a40389fc9c1dcc093eee1",
       "version_major": 2,
       "version_minor": 0
      },
      "text/plain": [
       "  0%|          | 0/18 [00:00<?, ?it/s]"
      ]
     },
     "metadata": {},
     "output_type": "display_data"
    },
    {
     "name": "stderr",
     "output_type": "stream",
     "text": [
      "/tmp/ipykernel_18511/1893919530.py:29: FutureWarning: The frame.append method is deprecated and will be removed from pandas in a future version. Use pandas.concat instead.\n",
      "  df = df.append(pd.Series({\n",
      "/tmp/ipykernel_18511/1893919530.py:29: FutureWarning: The frame.append method is deprecated and will be removed from pandas in a future version. Use pandas.concat instead.\n",
      "  df = df.append(pd.Series({\n",
      "/tmp/ipykernel_18511/1893919530.py:29: FutureWarning: The frame.append method is deprecated and will be removed from pandas in a future version. Use pandas.concat instead.\n",
      "  df = df.append(pd.Series({\n",
      "/tmp/ipykernel_18511/1893919530.py:29: FutureWarning: The frame.append method is deprecated and will be removed from pandas in a future version. Use pandas.concat instead.\n",
      "  df = df.append(pd.Series({\n",
      "/tmp/ipykernel_18511/1893919530.py:29: FutureWarning: The frame.append method is deprecated and will be removed from pandas in a future version. Use pandas.concat instead.\n",
      "  df = df.append(pd.Series({\n",
      "/tmp/ipykernel_18511/1893919530.py:29: FutureWarning: The frame.append method is deprecated and will be removed from pandas in a future version. Use pandas.concat instead.\n",
      "  df = df.append(pd.Series({\n",
      "/tmp/ipykernel_18511/1893919530.py:29: FutureWarning: The frame.append method is deprecated and will be removed from pandas in a future version. Use pandas.concat instead.\n",
      "  df = df.append(pd.Series({\n",
      "/tmp/ipykernel_18511/1893919530.py:29: FutureWarning: The frame.append method is deprecated and will be removed from pandas in a future version. Use pandas.concat instead.\n",
      "  df = df.append(pd.Series({\n",
      "/tmp/ipykernel_18511/1893919530.py:29: FutureWarning: The frame.append method is deprecated and will be removed from pandas in a future version. Use pandas.concat instead.\n",
      "  df = df.append(pd.Series({\n",
      "/tmp/ipykernel_18511/1893919530.py:29: FutureWarning: The frame.append method is deprecated and will be removed from pandas in a future version. Use pandas.concat instead.\n",
      "  df = df.append(pd.Series({\n",
      "/tmp/ipykernel_18511/1893919530.py:29: FutureWarning: The frame.append method is deprecated and will be removed from pandas in a future version. Use pandas.concat instead.\n",
      "  df = df.append(pd.Series({\n",
      "/tmp/ipykernel_18511/1893919530.py:29: FutureWarning: The frame.append method is deprecated and will be removed from pandas in a future version. Use pandas.concat instead.\n",
      "  df = df.append(pd.Series({\n",
      "/tmp/ipykernel_18511/1893919530.py:29: FutureWarning: The frame.append method is deprecated and will be removed from pandas in a future version. Use pandas.concat instead.\n",
      "  df = df.append(pd.Series({\n",
      "/tmp/ipykernel_18511/1893919530.py:29: FutureWarning: The frame.append method is deprecated and will be removed from pandas in a future version. Use pandas.concat instead.\n",
      "  df = df.append(pd.Series({\n",
      "/tmp/ipykernel_18511/1893919530.py:29: FutureWarning: The frame.append method is deprecated and will be removed from pandas in a future version. Use pandas.concat instead.\n",
      "  df = df.append(pd.Series({\n",
      "/tmp/ipykernel_18511/1893919530.py:29: FutureWarning: The frame.append method is deprecated and will be removed from pandas in a future version. Use pandas.concat instead.\n",
      "  df = df.append(pd.Series({\n",
      "/tmp/ipykernel_18511/1893919530.py:29: FutureWarning: The frame.append method is deprecated and will be removed from pandas in a future version. Use pandas.concat instead.\n",
      "  df = df.append(pd.Series({\n",
      "/tmp/ipykernel_18511/1893919530.py:29: FutureWarning: The frame.append method is deprecated and will be removed from pandas in a future version. Use pandas.concat instead.\n",
      "  df = df.append(pd.Series({\n"
     ]
    }
   ],
   "source": [
    "gene = \"01_Control\"\n",
    "crop_no = \"Cropped_05\"\n",
    "\n",
    "BASE =  f\"/home/neurobiology/drobo/DeepLearningData/083_KN_Exp313-AT/annotations/{gene}/{crop_no}/\"\n",
    "mito_path = f\"{BASE}/selected_mito_0-73/\"\n",
    "#mercs_path = f\"{BASE}/modified_mercs\"\n",
    "out_dir = f\"/home/neurobiology/drobo/DeepLearningData/083_KN_Exp313-AT/Data/{gene}/{crop_no}/\"\n",
    "out_filename = \"mito_001_0-73_non3D.csv\"\n",
    "\n",
    "if __name__ == \"__main__\":\n",
    "    main(mito_path, out_dir, out_filename)"
   ]
  },
  {
   "cell_type": "code",
   "execution_count": 16,
   "metadata": {},
   "outputs": [
    {
     "name": "stdout",
     "output_type": "stream",
     "text": [
      "(74, 1458, 1710, 1)\n"
     ]
    },
    {
     "data": {
      "application/vnd.jupyter.widget-view+json": {
       "model_id": "2c59f3b0f9914a0b8f863f8d8879aba1",
       "version_major": 2,
       "version_minor": 0
      },
      "text/plain": [
       "  0%|          | 0/41 [00:00<?, ?it/s]"
      ]
     },
     "metadata": {},
     "output_type": "display_data"
    },
    {
     "name": "stderr",
     "output_type": "stream",
     "text": [
      "/tmp/ipykernel_18511/1893919530.py:29: FutureWarning: The frame.append method is deprecated and will be removed from pandas in a future version. Use pandas.concat instead.\n",
      "  df = df.append(pd.Series({\n",
      "/tmp/ipykernel_18511/1893919530.py:29: FutureWarning: The frame.append method is deprecated and will be removed from pandas in a future version. Use pandas.concat instead.\n",
      "  df = df.append(pd.Series({\n",
      "/tmp/ipykernel_18511/1893919530.py:29: FutureWarning: The frame.append method is deprecated and will be removed from pandas in a future version. Use pandas.concat instead.\n",
      "  df = df.append(pd.Series({\n",
      "/tmp/ipykernel_18511/1893919530.py:29: FutureWarning: The frame.append method is deprecated and will be removed from pandas in a future version. Use pandas.concat instead.\n",
      "  df = df.append(pd.Series({\n",
      "/tmp/ipykernel_18511/1893919530.py:29: FutureWarning: The frame.append method is deprecated and will be removed from pandas in a future version. Use pandas.concat instead.\n",
      "  df = df.append(pd.Series({\n",
      "/tmp/ipykernel_18511/1893919530.py:29: FutureWarning: The frame.append method is deprecated and will be removed from pandas in a future version. Use pandas.concat instead.\n",
      "  df = df.append(pd.Series({\n",
      "/tmp/ipykernel_18511/1893919530.py:29: FutureWarning: The frame.append method is deprecated and will be removed from pandas in a future version. Use pandas.concat instead.\n",
      "  df = df.append(pd.Series({\n",
      "/tmp/ipykernel_18511/1893919530.py:29: FutureWarning: The frame.append method is deprecated and will be removed from pandas in a future version. Use pandas.concat instead.\n",
      "  df = df.append(pd.Series({\n",
      "/tmp/ipykernel_18511/1893919530.py:29: FutureWarning: The frame.append method is deprecated and will be removed from pandas in a future version. Use pandas.concat instead.\n",
      "  df = df.append(pd.Series({\n",
      "/tmp/ipykernel_18511/1893919530.py:29: FutureWarning: The frame.append method is deprecated and will be removed from pandas in a future version. Use pandas.concat instead.\n",
      "  df = df.append(pd.Series({\n",
      "/tmp/ipykernel_18511/1893919530.py:29: FutureWarning: The frame.append method is deprecated and will be removed from pandas in a future version. Use pandas.concat instead.\n",
      "  df = df.append(pd.Series({\n",
      "/tmp/ipykernel_18511/1893919530.py:29: FutureWarning: The frame.append method is deprecated and will be removed from pandas in a future version. Use pandas.concat instead.\n",
      "  df = df.append(pd.Series({\n",
      "/tmp/ipykernel_18511/1893919530.py:29: FutureWarning: The frame.append method is deprecated and will be removed from pandas in a future version. Use pandas.concat instead.\n",
      "  df = df.append(pd.Series({\n",
      "/tmp/ipykernel_18511/1893919530.py:29: FutureWarning: The frame.append method is deprecated and will be removed from pandas in a future version. Use pandas.concat instead.\n",
      "  df = df.append(pd.Series({\n",
      "/tmp/ipykernel_18511/1893919530.py:29: FutureWarning: The frame.append method is deprecated and will be removed from pandas in a future version. Use pandas.concat instead.\n",
      "  df = df.append(pd.Series({\n",
      "/tmp/ipykernel_18511/1893919530.py:29: FutureWarning: The frame.append method is deprecated and will be removed from pandas in a future version. Use pandas.concat instead.\n",
      "  df = df.append(pd.Series({\n",
      "/tmp/ipykernel_18511/1893919530.py:29: FutureWarning: The frame.append method is deprecated and will be removed from pandas in a future version. Use pandas.concat instead.\n",
      "  df = df.append(pd.Series({\n",
      "/tmp/ipykernel_18511/1893919530.py:29: FutureWarning: The frame.append method is deprecated and will be removed from pandas in a future version. Use pandas.concat instead.\n",
      "  df = df.append(pd.Series({\n",
      "/tmp/ipykernel_18511/1893919530.py:29: FutureWarning: The frame.append method is deprecated and will be removed from pandas in a future version. Use pandas.concat instead.\n",
      "  df = df.append(pd.Series({\n",
      "/tmp/ipykernel_18511/1893919530.py:29: FutureWarning: The frame.append method is deprecated and will be removed from pandas in a future version. Use pandas.concat instead.\n",
      "  df = df.append(pd.Series({\n",
      "/tmp/ipykernel_18511/1893919530.py:29: FutureWarning: The frame.append method is deprecated and will be removed from pandas in a future version. Use pandas.concat instead.\n",
      "  df = df.append(pd.Series({\n",
      "/tmp/ipykernel_18511/1893919530.py:29: FutureWarning: The frame.append method is deprecated and will be removed from pandas in a future version. Use pandas.concat instead.\n",
      "  df = df.append(pd.Series({\n",
      "/tmp/ipykernel_18511/1893919530.py:29: FutureWarning: The frame.append method is deprecated and will be removed from pandas in a future version. Use pandas.concat instead.\n",
      "  df = df.append(pd.Series({\n",
      "/tmp/ipykernel_18511/1893919530.py:29: FutureWarning: The frame.append method is deprecated and will be removed from pandas in a future version. Use pandas.concat instead.\n",
      "  df = df.append(pd.Series({\n",
      "/tmp/ipykernel_18511/1893919530.py:29: FutureWarning: The frame.append method is deprecated and will be removed from pandas in a future version. Use pandas.concat instead.\n",
      "  df = df.append(pd.Series({\n",
      "/tmp/ipykernel_18511/1893919530.py:29: FutureWarning: The frame.append method is deprecated and will be removed from pandas in a future version. Use pandas.concat instead.\n",
      "  df = df.append(pd.Series({\n",
      "/tmp/ipykernel_18511/1893919530.py:29: FutureWarning: The frame.append method is deprecated and will be removed from pandas in a future version. Use pandas.concat instead.\n",
      "  df = df.append(pd.Series({\n",
      "/tmp/ipykernel_18511/1893919530.py:29: FutureWarning: The frame.append method is deprecated and will be removed from pandas in a future version. Use pandas.concat instead.\n",
      "  df = df.append(pd.Series({\n",
      "/tmp/ipykernel_18511/1893919530.py:29: FutureWarning: The frame.append method is deprecated and will be removed from pandas in a future version. Use pandas.concat instead.\n",
      "  df = df.append(pd.Series({\n",
      "/tmp/ipykernel_18511/1893919530.py:29: FutureWarning: The frame.append method is deprecated and will be removed from pandas in a future version. Use pandas.concat instead.\n",
      "  df = df.append(pd.Series({\n",
      "/tmp/ipykernel_18511/1893919530.py:29: FutureWarning: The frame.append method is deprecated and will be removed from pandas in a future version. Use pandas.concat instead.\n",
      "  df = df.append(pd.Series({\n",
      "/tmp/ipykernel_18511/1893919530.py:29: FutureWarning: The frame.append method is deprecated and will be removed from pandas in a future version. Use pandas.concat instead.\n",
      "  df = df.append(pd.Series({\n",
      "/tmp/ipykernel_18511/1893919530.py:29: FutureWarning: The frame.append method is deprecated and will be removed from pandas in a future version. Use pandas.concat instead.\n",
      "  df = df.append(pd.Series({\n",
      "/tmp/ipykernel_18511/1893919530.py:29: FutureWarning: The frame.append method is deprecated and will be removed from pandas in a future version. Use pandas.concat instead.\n",
      "  df = df.append(pd.Series({\n",
      "/tmp/ipykernel_18511/1893919530.py:29: FutureWarning: The frame.append method is deprecated and will be removed from pandas in a future version. Use pandas.concat instead.\n",
      "  df = df.append(pd.Series({\n",
      "/tmp/ipykernel_18511/1893919530.py:29: FutureWarning: The frame.append method is deprecated and will be removed from pandas in a future version. Use pandas.concat instead.\n",
      "  df = df.append(pd.Series({\n",
      "/tmp/ipykernel_18511/1893919530.py:29: FutureWarning: The frame.append method is deprecated and will be removed from pandas in a future version. Use pandas.concat instead.\n",
      "  df = df.append(pd.Series({\n",
      "/tmp/ipykernel_18511/1893919530.py:29: FutureWarning: The frame.append method is deprecated and will be removed from pandas in a future version. Use pandas.concat instead.\n",
      "  df = df.append(pd.Series({\n",
      "/tmp/ipykernel_18511/1893919530.py:29: FutureWarning: The frame.append method is deprecated and will be removed from pandas in a future version. Use pandas.concat instead.\n",
      "  df = df.append(pd.Series({\n",
      "/tmp/ipykernel_18511/1893919530.py:29: FutureWarning: The frame.append method is deprecated and will be removed from pandas in a future version. Use pandas.concat instead.\n",
      "  df = df.append(pd.Series({\n",
      "/tmp/ipykernel_18511/1893919530.py:29: FutureWarning: The frame.append method is deprecated and will be removed from pandas in a future version. Use pandas.concat instead.\n",
      "  df = df.append(pd.Series({\n"
     ]
    }
   ],
   "source": [
    "gene = \"04_PDZD8KO_FKBP8KD\"\n",
    "crop_no = \"Cropped_01\"\n",
    "\n",
    "BASE =  f\"/home/neurobiology/drobo/DeepLearningData/083_KN_Exp313-AT/annotations/{gene}/{crop_no}/\"\n",
    "mito_path = f\"{BASE}/selected_mito/\"\n",
    "#mercs_path = f\"{BASE}/modified_mercs\"\n",
    "out_dir = f\"/home/neurobiology/drobo/DeepLearningData/083_KN_Exp313-AT/Data/{gene}/{crop_no}/\"\n",
    "out_filename = \"mito_001_0-73_non3D.csv\"\n",
    "\n",
    "if __name__ == \"__main__\":\n",
    "    main(mito_path, out_dir, out_filename)"
   ]
  },
  {
   "cell_type": "code",
   "execution_count": 17,
   "metadata": {},
   "outputs": [
    {
     "name": "stdout",
     "output_type": "stream",
     "text": [
      "(115, 702, 2082, 1)\n"
     ]
    },
    {
     "data": {
      "application/vnd.jupyter.widget-view+json": {
       "model_id": "c87dc1675f8c437a93d2f64d10ecf740",
       "version_major": 2,
       "version_minor": 0
      },
      "text/plain": [
       "  0%|          | 0/6 [00:00<?, ?it/s]"
      ]
     },
     "metadata": {},
     "output_type": "display_data"
    },
    {
     "name": "stderr",
     "output_type": "stream",
     "text": [
      "/tmp/ipykernel_18511/1893919530.py:29: FutureWarning: The frame.append method is deprecated and will be removed from pandas in a future version. Use pandas.concat instead.\n",
      "  df = df.append(pd.Series({\n",
      "/tmp/ipykernel_18511/1893919530.py:29: FutureWarning: The frame.append method is deprecated and will be removed from pandas in a future version. Use pandas.concat instead.\n",
      "  df = df.append(pd.Series({\n",
      "/tmp/ipykernel_18511/1893919530.py:29: FutureWarning: The frame.append method is deprecated and will be removed from pandas in a future version. Use pandas.concat instead.\n",
      "  df = df.append(pd.Series({\n",
      "/tmp/ipykernel_18511/1893919530.py:29: FutureWarning: The frame.append method is deprecated and will be removed from pandas in a future version. Use pandas.concat instead.\n",
      "  df = df.append(pd.Series({\n",
      "/tmp/ipykernel_18511/1893919530.py:29: FutureWarning: The frame.append method is deprecated and will be removed from pandas in a future version. Use pandas.concat instead.\n",
      "  df = df.append(pd.Series({\n",
      "/tmp/ipykernel_18511/1893919530.py:29: FutureWarning: The frame.append method is deprecated and will be removed from pandas in a future version. Use pandas.concat instead.\n",
      "  df = df.append(pd.Series({\n"
     ]
    }
   ],
   "source": [
    "gene = \"04_PDZD8KO_FKBP8KD\"\n",
    "crop_no = \"Cropped_02\"\n",
    "\n",
    "BASE =  f\"/home/neurobiology/drobo/DeepLearningData/083_KN_Exp313-AT/annotations/{gene}/{crop_no}/\"\n",
    "mito_path = f\"{BASE}/selected_mito_0-73/\"\n",
    "#mercs_path = f\"{BASE}/modified_mercs\"\n",
    "out_dir = f\"/home/neurobiology/drobo/DeepLearningData/083_KN_Exp313-AT/Data/{gene}/{crop_no}/\"\n",
    "out_filename = \"mito_001_0-73_non3D.csv\"\n",
    "\n",
    "if __name__ == \"__main__\":\n",
    "    main(mito_path, out_dir, out_filename)"
   ]
  },
  {
   "cell_type": "code",
   "execution_count": 18,
   "metadata": {},
   "outputs": [
    {
     "name": "stdout",
     "output_type": "stream",
     "text": [
      "(74, 1248, 1888, 1)\n"
     ]
    },
    {
     "data": {
      "application/vnd.jupyter.widget-view+json": {
       "model_id": "718007f1de434471a92e319ceefdf54c",
       "version_major": 2,
       "version_minor": 0
      },
      "text/plain": [
       "  0%|          | 0/2 [00:00<?, ?it/s]"
      ]
     },
     "metadata": {},
     "output_type": "display_data"
    },
    {
     "name": "stderr",
     "output_type": "stream",
     "text": [
      "/tmp/ipykernel_18511/1893919530.py:29: FutureWarning: The frame.append method is deprecated and will be removed from pandas in a future version. Use pandas.concat instead.\n",
      "  df = df.append(pd.Series({\n",
      "/tmp/ipykernel_18511/1893919530.py:29: FutureWarning: The frame.append method is deprecated and will be removed from pandas in a future version. Use pandas.concat instead.\n",
      "  df = df.append(pd.Series({\n"
     ]
    }
   ],
   "source": [
    "gene = \"04_PDZD8KO_FKBP8KD\"\n",
    "crop_no = \"Cropped_03\"\n",
    "\n",
    "BASE =  f\"/home/neurobiology/drobo/DeepLearningData/083_KN_Exp313-AT/annotations/{gene}/{crop_no}/\"\n",
    "mito_path = f\"{BASE}/selected_mito_0-73/\"\n",
    "#mercs_path = f\"{BASE}/modified_mercs\"\n",
    "out_dir = f\"/home/neurobiology/drobo/DeepLearningData/083_KN_Exp313-AT/Data/{gene}/{crop_no}/\"\n",
    "out_filename = \"mito_001_0-73_non3D.csv\"\n",
    "\n",
    "if __name__ == \"__main__\":\n",
    "    main(mito_path, out_dir, out_filename)"
   ]
  },
  {
   "cell_type": "code",
   "execution_count": 19,
   "metadata": {},
   "outputs": [
    {
     "name": "stdout",
     "output_type": "stream",
     "text": [
      "(74, 1566, 1266, 1)\n"
     ]
    },
    {
     "data": {
      "application/vnd.jupyter.widget-view+json": {
       "model_id": "06b2fc5a6972488a81198ca30b1351c0",
       "version_major": 2,
       "version_minor": 0
      },
      "text/plain": [
       "  0%|          | 0/5 [00:00<?, ?it/s]"
      ]
     },
     "metadata": {},
     "output_type": "display_data"
    },
    {
     "name": "stderr",
     "output_type": "stream",
     "text": [
      "/tmp/ipykernel_18511/1893919530.py:29: FutureWarning: The frame.append method is deprecated and will be removed from pandas in a future version. Use pandas.concat instead.\n",
      "  df = df.append(pd.Series({\n",
      "/tmp/ipykernel_18511/1893919530.py:29: FutureWarning: The frame.append method is deprecated and will be removed from pandas in a future version. Use pandas.concat instead.\n",
      "  df = df.append(pd.Series({\n",
      "/tmp/ipykernel_18511/1893919530.py:29: FutureWarning: The frame.append method is deprecated and will be removed from pandas in a future version. Use pandas.concat instead.\n",
      "  df = df.append(pd.Series({\n",
      "/tmp/ipykernel_18511/1893919530.py:29: FutureWarning: The frame.append method is deprecated and will be removed from pandas in a future version. Use pandas.concat instead.\n",
      "  df = df.append(pd.Series({\n",
      "/tmp/ipykernel_18511/1893919530.py:29: FutureWarning: The frame.append method is deprecated and will be removed from pandas in a future version. Use pandas.concat instead.\n",
      "  df = df.append(pd.Series({\n"
     ]
    }
   ],
   "source": [
    "gene = \"04_PDZD8KO_FKBP8KD\"\n",
    "crop_no = \"Cropped_04\"\n",
    "\n",
    "BASE =  f\"/home/neurobiology/drobo/DeepLearningData/083_KN_Exp313-AT/annotations/{gene}/{crop_no}/\"\n",
    "mito_path = f\"{BASE}/selected_mito_0-73/\"\n",
    "#mercs_path = f\"{BASE}/modified_mercs\"\n",
    "out_dir = f\"/home/neurobiology/drobo/DeepLearningData/083_KN_Exp313-AT/Data/{gene}/{crop_no}/\"\n",
    "out_filename = \"mito_001_0-73.csv\"\n",
    "\n",
    "if __name__ == \"__main__\":\n",
    "    main(mito_path, out_dir, out_filename)"
   ]
  },
  {
   "cell_type": "code",
   "execution_count": 20,
   "metadata": {},
   "outputs": [
    {
     "name": "stdout",
     "output_type": "stream",
     "text": [
      "(79, 750, 2520, 1)\n"
     ]
    },
    {
     "data": {
      "application/vnd.jupyter.widget-view+json": {
       "model_id": "5b32ed67a2124e0aae8490f5e5beca76",
       "version_major": 2,
       "version_minor": 0
      },
      "text/plain": [
       "  0%|          | 0/8 [00:00<?, ?it/s]"
      ]
     },
     "metadata": {},
     "output_type": "display_data"
    },
    {
     "name": "stderr",
     "output_type": "stream",
     "text": [
      "/tmp/ipykernel_18511/1893919530.py:29: FutureWarning: The frame.append method is deprecated and will be removed from pandas in a future version. Use pandas.concat instead.\n",
      "  df = df.append(pd.Series({\n",
      "/tmp/ipykernel_18511/1893919530.py:29: FutureWarning: The frame.append method is deprecated and will be removed from pandas in a future version. Use pandas.concat instead.\n",
      "  df = df.append(pd.Series({\n",
      "/tmp/ipykernel_18511/1893919530.py:29: FutureWarning: The frame.append method is deprecated and will be removed from pandas in a future version. Use pandas.concat instead.\n",
      "  df = df.append(pd.Series({\n",
      "/tmp/ipykernel_18511/1893919530.py:29: FutureWarning: The frame.append method is deprecated and will be removed from pandas in a future version. Use pandas.concat instead.\n",
      "  df = df.append(pd.Series({\n",
      "/tmp/ipykernel_18511/1893919530.py:29: FutureWarning: The frame.append method is deprecated and will be removed from pandas in a future version. Use pandas.concat instead.\n",
      "  df = df.append(pd.Series({\n",
      "/tmp/ipykernel_18511/1893919530.py:29: FutureWarning: The frame.append method is deprecated and will be removed from pandas in a future version. Use pandas.concat instead.\n",
      "  df = df.append(pd.Series({\n",
      "/tmp/ipykernel_18511/1893919530.py:29: FutureWarning: The frame.append method is deprecated and will be removed from pandas in a future version. Use pandas.concat instead.\n",
      "  df = df.append(pd.Series({\n",
      "/tmp/ipykernel_18511/1893919530.py:29: FutureWarning: The frame.append method is deprecated and will be removed from pandas in a future version. Use pandas.concat instead.\n",
      "  df = df.append(pd.Series({\n"
     ]
    }
   ],
   "source": [
    "gene = \"03_FKBP8KD\"\n",
    "crop_no = \"Cropped_02\"\n",
    "\n",
    "BASE =  f\"/home/neurobiology/drobo/DeepLearningData/083_KN_Exp313-AT/annotations/{gene}/{crop_no}/\"\n",
    "mito_path = f\"{BASE}/selected_mito/\"\n",
    "#mercs_path = f\"{BASE}/modified_mercs\"\n",
    "out_dir = f\"/home/neurobiology/drobo/DeepLearningData/083_KN_Exp313-AT/Data/{gene}/{crop_no}/\"\n",
    "out_filename = \"mito_001_0-73_non3D.csv\"\n",
    "\n",
    "if __name__ == \"__main__\":\n",
    "    main(mito_path, out_dir, out_filename)"
   ]
  },
  {
   "cell_type": "code",
   "execution_count": 21,
   "metadata": {},
   "outputs": [
    {
     "name": "stdout",
     "output_type": "stream",
     "text": [
      "(74, 558, 2406, 1)\n"
     ]
    },
    {
     "data": {
      "application/vnd.jupyter.widget-view+json": {
       "model_id": "064875ab99f4494c9ec5f23da7d6cf3a",
       "version_major": 2,
       "version_minor": 0
      },
      "text/plain": [
       "  0%|          | 0/15 [00:00<?, ?it/s]"
      ]
     },
     "metadata": {},
     "output_type": "display_data"
    },
    {
     "name": "stderr",
     "output_type": "stream",
     "text": [
      "/tmp/ipykernel_18511/1893919530.py:29: FutureWarning: The frame.append method is deprecated and will be removed from pandas in a future version. Use pandas.concat instead.\n",
      "  df = df.append(pd.Series({\n",
      "/tmp/ipykernel_18511/1893919530.py:29: FutureWarning: The frame.append method is deprecated and will be removed from pandas in a future version. Use pandas.concat instead.\n",
      "  df = df.append(pd.Series({\n",
      "/tmp/ipykernel_18511/1893919530.py:29: FutureWarning: The frame.append method is deprecated and will be removed from pandas in a future version. Use pandas.concat instead.\n",
      "  df = df.append(pd.Series({\n",
      "/tmp/ipykernel_18511/1893919530.py:29: FutureWarning: The frame.append method is deprecated and will be removed from pandas in a future version. Use pandas.concat instead.\n",
      "  df = df.append(pd.Series({\n",
      "/tmp/ipykernel_18511/1893919530.py:29: FutureWarning: The frame.append method is deprecated and will be removed from pandas in a future version. Use pandas.concat instead.\n",
      "  df = df.append(pd.Series({\n",
      "/tmp/ipykernel_18511/1893919530.py:29: FutureWarning: The frame.append method is deprecated and will be removed from pandas in a future version. Use pandas.concat instead.\n",
      "  df = df.append(pd.Series({\n",
      "/tmp/ipykernel_18511/1893919530.py:29: FutureWarning: The frame.append method is deprecated and will be removed from pandas in a future version. Use pandas.concat instead.\n",
      "  df = df.append(pd.Series({\n",
      "/tmp/ipykernel_18511/1893919530.py:29: FutureWarning: The frame.append method is deprecated and will be removed from pandas in a future version. Use pandas.concat instead.\n",
      "  df = df.append(pd.Series({\n",
      "/tmp/ipykernel_18511/1893919530.py:29: FutureWarning: The frame.append method is deprecated and will be removed from pandas in a future version. Use pandas.concat instead.\n",
      "  df = df.append(pd.Series({\n",
      "/tmp/ipykernel_18511/1893919530.py:29: FutureWarning: The frame.append method is deprecated and will be removed from pandas in a future version. Use pandas.concat instead.\n",
      "  df = df.append(pd.Series({\n",
      "/tmp/ipykernel_18511/1893919530.py:29: FutureWarning: The frame.append method is deprecated and will be removed from pandas in a future version. Use pandas.concat instead.\n",
      "  df = df.append(pd.Series({\n",
      "/tmp/ipykernel_18511/1893919530.py:29: FutureWarning: The frame.append method is deprecated and will be removed from pandas in a future version. Use pandas.concat instead.\n",
      "  df = df.append(pd.Series({\n",
      "/tmp/ipykernel_18511/1893919530.py:29: FutureWarning: The frame.append method is deprecated and will be removed from pandas in a future version. Use pandas.concat instead.\n",
      "  df = df.append(pd.Series({\n",
      "/tmp/ipykernel_18511/1893919530.py:29: FutureWarning: The frame.append method is deprecated and will be removed from pandas in a future version. Use pandas.concat instead.\n",
      "  df = df.append(pd.Series({\n",
      "/tmp/ipykernel_18511/1893919530.py:29: FutureWarning: The frame.append method is deprecated and will be removed from pandas in a future version. Use pandas.concat instead.\n",
      "  df = df.append(pd.Series({\n"
     ]
    }
   ],
   "source": [
    "gene = \"03_FKBP8KD\"\n",
    "crop_no = \"Cropped_03\"\n",
    "\n",
    "BASE =  f\"/home/neurobiology/drobo/DeepLearningData/083_KN_Exp313-AT/annotations/{gene}/{crop_no}/\"\n",
    "mito_path = f\"{BASE}/selected_mito_0-73/\"\n",
    "#mercs_path = f\"{BASE}/modified_mercs\"\n",
    "out_dir = f\"/home/neurobiology/drobo/DeepLearningData/083_KN_Exp313-AT/Data/{gene}/{crop_no}/\"\n",
    "out_filename = \"mito_001_0-73_non3D.csv\"\n",
    "\n",
    "if __name__ == \"__main__\":\n",
    "    main(mito_path, out_dir, out_filename)"
   ]
  },
  {
   "cell_type": "code",
   "execution_count": 22,
   "metadata": {},
   "outputs": [
    {
     "name": "stdout",
     "output_type": "stream",
     "text": [
      "(79, 672, 4038, 1)\n"
     ]
    },
    {
     "data": {
      "application/vnd.jupyter.widget-view+json": {
       "model_id": "9af6429d669c4a32a24454c42d086291",
       "version_major": 2,
       "version_minor": 0
      },
      "text/plain": [
       "  0%|          | 0/11 [00:00<?, ?it/s]"
      ]
     },
     "metadata": {},
     "output_type": "display_data"
    },
    {
     "name": "stderr",
     "output_type": "stream",
     "text": [
      "/tmp/ipykernel_18511/1893919530.py:29: FutureWarning: The frame.append method is deprecated and will be removed from pandas in a future version. Use pandas.concat instead.\n",
      "  df = df.append(pd.Series({\n",
      "/tmp/ipykernel_18511/1893919530.py:29: FutureWarning: The frame.append method is deprecated and will be removed from pandas in a future version. Use pandas.concat instead.\n",
      "  df = df.append(pd.Series({\n",
      "/tmp/ipykernel_18511/1893919530.py:29: FutureWarning: The frame.append method is deprecated and will be removed from pandas in a future version. Use pandas.concat instead.\n",
      "  df = df.append(pd.Series({\n",
      "/tmp/ipykernel_18511/1893919530.py:29: FutureWarning: The frame.append method is deprecated and will be removed from pandas in a future version. Use pandas.concat instead.\n",
      "  df = df.append(pd.Series({\n",
      "/tmp/ipykernel_18511/1893919530.py:29: FutureWarning: The frame.append method is deprecated and will be removed from pandas in a future version. Use pandas.concat instead.\n",
      "  df = df.append(pd.Series({\n",
      "/tmp/ipykernel_18511/1893919530.py:29: FutureWarning: The frame.append method is deprecated and will be removed from pandas in a future version. Use pandas.concat instead.\n",
      "  df = df.append(pd.Series({\n",
      "/tmp/ipykernel_18511/1893919530.py:29: FutureWarning: The frame.append method is deprecated and will be removed from pandas in a future version. Use pandas.concat instead.\n",
      "  df = df.append(pd.Series({\n",
      "/tmp/ipykernel_18511/1893919530.py:29: FutureWarning: The frame.append method is deprecated and will be removed from pandas in a future version. Use pandas.concat instead.\n",
      "  df = df.append(pd.Series({\n",
      "/tmp/ipykernel_18511/1893919530.py:29: FutureWarning: The frame.append method is deprecated and will be removed from pandas in a future version. Use pandas.concat instead.\n",
      "  df = df.append(pd.Series({\n",
      "/tmp/ipykernel_18511/1893919530.py:29: FutureWarning: The frame.append method is deprecated and will be removed from pandas in a future version. Use pandas.concat instead.\n",
      "  df = df.append(pd.Series({\n",
      "/tmp/ipykernel_18511/1893919530.py:29: FutureWarning: The frame.append method is deprecated and will be removed from pandas in a future version. Use pandas.concat instead.\n",
      "  df = df.append(pd.Series({\n"
     ]
    }
   ],
   "source": [
    "gene = \"03_FKBP8KD\"\n",
    "crop_no = \"Cropped_04\"\n",
    "\n",
    "BASE =  f\"/home/neurobiology/drobo/DeepLearningData/083_KN_Exp313-AT/annotations/{gene}/{crop_no}/\"\n",
    "mito_path = f\"{BASE}/selected_mito_0-73/\"\n",
    "#mercs_path = f\"{BASE}/modified_mercs\"\n",
    "out_dir = f\"/home/neurobiology/drobo/DeepLearningData/083_KN_Exp313-AT/Data/{gene}/{crop_no}/\"\n",
    "out_filename = \"mito_001_0-73_non3D.csv\"\n",
    "\n",
    "if __name__ == \"__main__\":\n",
    "    main(mito_path, out_dir, out_filename)"
   ]
  },
  {
   "cell_type": "code",
   "execution_count": 23,
   "metadata": {},
   "outputs": [
    {
     "name": "stdout",
     "output_type": "stream",
     "text": [
      "(74, 1428, 3654, 1)\n"
     ]
    },
    {
     "data": {
      "application/vnd.jupyter.widget-view+json": {
       "model_id": "ccfc8bee550c47a89607a46737cc47ed",
       "version_major": 2,
       "version_minor": 0
      },
      "text/plain": [
       "  0%|          | 0/7 [00:00<?, ?it/s]"
      ]
     },
     "metadata": {},
     "output_type": "display_data"
    },
    {
     "name": "stderr",
     "output_type": "stream",
     "text": [
      "/tmp/ipykernel_18511/1893919530.py:29: FutureWarning: The frame.append method is deprecated and will be removed from pandas in a future version. Use pandas.concat instead.\n",
      "  df = df.append(pd.Series({\n",
      "/tmp/ipykernel_18511/1893919530.py:29: FutureWarning: The frame.append method is deprecated and will be removed from pandas in a future version. Use pandas.concat instead.\n",
      "  df = df.append(pd.Series({\n",
      "/tmp/ipykernel_18511/1893919530.py:29: FutureWarning: The frame.append method is deprecated and will be removed from pandas in a future version. Use pandas.concat instead.\n",
      "  df = df.append(pd.Series({\n",
      "/tmp/ipykernel_18511/1893919530.py:29: FutureWarning: The frame.append method is deprecated and will be removed from pandas in a future version. Use pandas.concat instead.\n",
      "  df = df.append(pd.Series({\n",
      "/tmp/ipykernel_18511/1893919530.py:29: FutureWarning: The frame.append method is deprecated and will be removed from pandas in a future version. Use pandas.concat instead.\n",
      "  df = df.append(pd.Series({\n",
      "/tmp/ipykernel_18511/1893919530.py:29: FutureWarning: The frame.append method is deprecated and will be removed from pandas in a future version. Use pandas.concat instead.\n",
      "  df = df.append(pd.Series({\n",
      "/tmp/ipykernel_18511/1893919530.py:29: FutureWarning: The frame.append method is deprecated and will be removed from pandas in a future version. Use pandas.concat instead.\n",
      "  df = df.append(pd.Series({\n"
     ]
    }
   ],
   "source": [
    "gene = \"03_FKBP8KD\"\n",
    "crop_no = \"Cropped_05\"\n",
    "\n",
    "BASE =  f\"/home/neurobiology/drobo/DeepLearningData/083_KN_Exp313-AT/annotations/{gene}/{crop_no}/\"\n",
    "mito_path = f\"{BASE}/selected_mito_0-73/\"\n",
    "#mercs_path = f\"{BASE}/modified_mercs\"\n",
    "out_dir = f\"/home/neurobiology/drobo/DeepLearningData/083_KN_Exp313-AT/Data/{gene}/{crop_no}/\"\n",
    "out_filename = \"mito_001_0-73_non3D.csv\"\n",
    "\n",
    "if __name__ == \"__main__\":\n",
    "    main(mito_path, out_dir, out_filename)"
   ]
  },
  {
   "cell_type": "code",
   "execution_count": null,
   "metadata": {},
   "outputs": [],
   "source": [
    "gene = \"03_FKBP8KD\"\n",
    "crop_no = \"Cropped_05\"\n",
    "\n",
    "BASE =  f\"/home/neurobiology/drobo/DeepLearningData/083_KN_Exp313-AT/annotations/{gene}/{crop_no}/\"\n",
    "mito_path = f\"{BASE}/selected_mito/\"\n",
    "#mercs_path = f\"{BASE}/modified_mercs\"\n",
    "out_dir = f\"/home/neurobiology/drobo/DeepLearningData/083_KN_Exp313-AT/Data/{gene}/{crop_no}/\"\n",
    "out_filename = \"mito_001_0-73_non3D.csv\"\n",
    "\n",
    "if __name__ == \"__main__\":\n",
    "    main(mito_path, out_dir, out_filename)"
   ]
  },
  {
   "cell_type": "code",
   "execution_count": null,
   "metadata": {},
   "outputs": [],
   "source": []
  },
  {
   "cell_type": "code",
   "execution_count": null,
   "metadata": {},
   "outputs": [],
   "source": []
  }
 ],
 "metadata": {
  "kernelspec": {
   "display_name": "Python 3 (ipykernel)",
   "language": "python",
   "name": "python3"
  },
  "language_info": {
   "codemirror_mode": {
    "name": "ipython",
    "version": 3
   },
   "file_extension": ".py",
   "mimetype": "text/x-python",
   "name": "python",
   "nbconvert_exporter": "python",
   "pygments_lexer": "ipython3",
   "version": "3.9.19"
  },
  "toc": {
   "base_numbering": 1,
   "nav_menu": {},
   "number_sections": true,
   "sideBar": true,
   "skip_h1_title": false,
   "title_cell": "Table of Contents",
   "title_sidebar": "Contents",
   "toc_cell": false,
   "toc_position": {},
   "toc_section_display": true,
   "toc_window_display": false
  },
  "varInspector": {
   "cols": {
    "lenName": 16,
    "lenType": 16,
    "lenVar": 40
   },
   "kernels_config": {
    "python": {
     "delete_cmd_postfix": "",
     "delete_cmd_prefix": "del ",
     "library": "var_list.py",
     "varRefreshCmd": "print(var_dic_list())"
    },
    "r": {
     "delete_cmd_postfix": ") ",
     "delete_cmd_prefix": "rm(",
     "library": "var_list.r",
     "varRefreshCmd": "cat(var_dic_list()) "
    }
   },
   "types_to_exclude": [
    "module",
    "function",
    "builtin_function_or_method",
    "instance",
    "_Feature"
   ],
   "window_display": false
  }
 },
 "nbformat": 4,
 "nbformat_minor": 4
}
